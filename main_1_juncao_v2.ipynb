{
 "cells": [
  {
   "cell_type": "markdown",
   "id": "ede2ce1c",
   "metadata": {},
   "source": [
    "# Coleta de dados"
   ]
  },
  {
   "cell_type": "code",
   "execution_count": 1,
   "id": "8fb6fe73",
   "metadata": {},
   "outputs": [],
   "source": [
    "# #TODO correlação com datas ->  series  temporais\n",
    "# #TODO como tratar dados descritivos(opinião/review) \n",
    "# #TODO seller sem relação com nenhuma outra tabela item\n",
    "# #TODO location  \n",
    "# #TODO tamanho do artigo"
   ]
  },
  {
   "cell_type": "code",
   "execution_count": 2,
   "id": "2ca3bbf4",
   "metadata": {},
   "outputs": [],
   "source": [
    "import pandas as pd\n",
    "import numpy as np\n",
    "from sklearn.preprocessing import StandardScaler, MinMaxScaler\n",
    "import matplotlib.pyplot as plt"
   ]
  },
  {
   "cell_type": "code",
   "execution_count": 3,
   "id": "e39e4a26",
   "metadata": {},
   "outputs": [],
   "source": [
    "customers = pd.read_csv(\"datasets/olist_customers_dataset.csv\")\n",
    "location = pd.read_csv(\"datasets/olist_geolocation_dataset.csv\")\n",
    "items = pd.read_csv(\"datasets/olist_order_items_dataset.csv\")\n",
    "payments = pd.read_csv(\"datasets/olist_order_payments_dataset.csv\")\n",
    "reviews = pd.read_csv(\"datasets/olist_order_reviews_dataset.csv\")\n",
    "orders = pd.read_csv(\"datasets/olist_orders_dataset.csv\")\n",
    "products = pd.read_csv(\"datasets/olist_products_dataset.csv\")\n",
    "sellers = pd.read_csv(\"datasets/olist_sellers_dataset.csv\")"
   ]
  },
  {
   "cell_type": "markdown",
   "id": "bc050296",
   "metadata": {},
   "source": [
    "# Pré-Processamento dos Dados"
   ]
  },
  {
   "cell_type": "markdown",
   "id": "29a28142",
   "metadata": {},
   "source": [
    "## Definindo Tipos"
   ]
  },
  {
   "cell_type": "code",
   "execution_count": 4,
   "id": "67d4874f",
   "metadata": {
    "scrolled": true
   },
   "outputs": [
    {
     "data": {
      "text/html": [
       "<div>\n",
       "<style scoped>\n",
       "    .dataframe tbody tr th:only-of-type {\n",
       "        vertical-align: middle;\n",
       "    }\n",
       "\n",
       "    .dataframe tbody tr th {\n",
       "        vertical-align: top;\n",
       "    }\n",
       "\n",
       "    .dataframe thead th {\n",
       "        text-align: right;\n",
       "    }\n",
       "</style>\n",
       "<table border=\"1\" class=\"dataframe\">\n",
       "  <thead>\n",
       "    <tr style=\"text-align: right;\">\n",
       "      <th></th>\n",
       "      <th>customer_id</th>\n",
       "      <th>customer_unique_id</th>\n",
       "      <th>customer_zip_code_prefix</th>\n",
       "      <th>customer_city</th>\n",
       "      <th>customer_state</th>\n",
       "    </tr>\n",
       "  </thead>\n",
       "  <tbody>\n",
       "    <tr>\n",
       "      <th>0</th>\n",
       "      <td>06b8999e2fba1a1fbc88172c00ba8bc7</td>\n",
       "      <td>861eff4711a542e4b93843c6dd7febb0</td>\n",
       "      <td>14409</td>\n",
       "      <td>franca</td>\n",
       "      <td>SP</td>\n",
       "    </tr>\n",
       "    <tr>\n",
       "      <th>1</th>\n",
       "      <td>18955e83d337fd6b2def6b18a428ac77</td>\n",
       "      <td>290c77bc529b7ac935b93aa66c333dc3</td>\n",
       "      <td>9790</td>\n",
       "      <td>sao bernardo do campo</td>\n",
       "      <td>SP</td>\n",
       "    </tr>\n",
       "    <tr>\n",
       "      <th>2</th>\n",
       "      <td>4e7b3e00288586ebd08712fdd0374a03</td>\n",
       "      <td>060e732b5b29e8181a18229c7b0b2b5e</td>\n",
       "      <td>1151</td>\n",
       "      <td>sao paulo</td>\n",
       "      <td>SP</td>\n",
       "    </tr>\n",
       "    <tr>\n",
       "      <th>3</th>\n",
       "      <td>b2b6027bc5c5109e529d4dc6358b12c3</td>\n",
       "      <td>259dac757896d24d7702b9acbbff3f3c</td>\n",
       "      <td>8775</td>\n",
       "      <td>mogi das cruzes</td>\n",
       "      <td>SP</td>\n",
       "    </tr>\n",
       "    <tr>\n",
       "      <th>4</th>\n",
       "      <td>4f2d8ab171c80ec8364f7c12e35b23ad</td>\n",
       "      <td>345ecd01c38d18a9036ed96c73b8d066</td>\n",
       "      <td>13056</td>\n",
       "      <td>campinas</td>\n",
       "      <td>SP</td>\n",
       "    </tr>\n",
       "  </tbody>\n",
       "</table>\n",
       "</div>"
      ],
      "text/plain": [
       "                        customer_id                customer_unique_id  \\\n",
       "0  06b8999e2fba1a1fbc88172c00ba8bc7  861eff4711a542e4b93843c6dd7febb0   \n",
       "1  18955e83d337fd6b2def6b18a428ac77  290c77bc529b7ac935b93aa66c333dc3   \n",
       "2  4e7b3e00288586ebd08712fdd0374a03  060e732b5b29e8181a18229c7b0b2b5e   \n",
       "3  b2b6027bc5c5109e529d4dc6358b12c3  259dac757896d24d7702b9acbbff3f3c   \n",
       "4  4f2d8ab171c80ec8364f7c12e35b23ad  345ecd01c38d18a9036ed96c73b8d066   \n",
       "\n",
       "   customer_zip_code_prefix          customer_city customer_state  \n",
       "0                     14409                 franca             SP  \n",
       "1                      9790  sao bernardo do campo             SP  \n",
       "2                      1151              sao paulo             SP  \n",
       "3                      8775        mogi das cruzes             SP  \n",
       "4                     13056               campinas             SP  "
      ]
     },
     "execution_count": 4,
     "metadata": {},
     "output_type": "execute_result"
    }
   ],
   "source": [
    "customers.head(5)"
   ]
  },
  {
   "cell_type": "code",
   "execution_count": 5,
   "id": "5109057b",
   "metadata": {},
   "outputs": [
    {
     "data": {
      "text/html": [
       "<div>\n",
       "<style scoped>\n",
       "    .dataframe tbody tr th:only-of-type {\n",
       "        vertical-align: middle;\n",
       "    }\n",
       "\n",
       "    .dataframe tbody tr th {\n",
       "        vertical-align: top;\n",
       "    }\n",
       "\n",
       "    .dataframe thead th {\n",
       "        text-align: right;\n",
       "    }\n",
       "</style>\n",
       "<table border=\"1\" class=\"dataframe\">\n",
       "  <thead>\n",
       "    <tr style=\"text-align: right;\">\n",
       "      <th></th>\n",
       "      <th>geolocation_zip_code_prefix</th>\n",
       "      <th>geolocation_lat</th>\n",
       "      <th>geolocation_lng</th>\n",
       "      <th>geolocation_city</th>\n",
       "      <th>geolocation_state</th>\n",
       "    </tr>\n",
       "  </thead>\n",
       "  <tbody>\n",
       "    <tr>\n",
       "      <th>0</th>\n",
       "      <td>1037</td>\n",
       "      <td>-23.545621</td>\n",
       "      <td>-46.639292</td>\n",
       "      <td>sao paulo</td>\n",
       "      <td>SP</td>\n",
       "    </tr>\n",
       "    <tr>\n",
       "      <th>1</th>\n",
       "      <td>1046</td>\n",
       "      <td>-23.546081</td>\n",
       "      <td>-46.644820</td>\n",
       "      <td>sao paulo</td>\n",
       "      <td>SP</td>\n",
       "    </tr>\n",
       "    <tr>\n",
       "      <th>2</th>\n",
       "      <td>1046</td>\n",
       "      <td>-23.546129</td>\n",
       "      <td>-46.642951</td>\n",
       "      <td>sao paulo</td>\n",
       "      <td>SP</td>\n",
       "    </tr>\n",
       "    <tr>\n",
       "      <th>3</th>\n",
       "      <td>1041</td>\n",
       "      <td>-23.544392</td>\n",
       "      <td>-46.639499</td>\n",
       "      <td>sao paulo</td>\n",
       "      <td>SP</td>\n",
       "    </tr>\n",
       "    <tr>\n",
       "      <th>4</th>\n",
       "      <td>1035</td>\n",
       "      <td>-23.541578</td>\n",
       "      <td>-46.641607</td>\n",
       "      <td>sao paulo</td>\n",
       "      <td>SP</td>\n",
       "    </tr>\n",
       "  </tbody>\n",
       "</table>\n",
       "</div>"
      ],
      "text/plain": [
       "   geolocation_zip_code_prefix  geolocation_lat  geolocation_lng  \\\n",
       "0                         1037       -23.545621       -46.639292   \n",
       "1                         1046       -23.546081       -46.644820   \n",
       "2                         1046       -23.546129       -46.642951   \n",
       "3                         1041       -23.544392       -46.639499   \n",
       "4                         1035       -23.541578       -46.641607   \n",
       "\n",
       "  geolocation_city geolocation_state  \n",
       "0        sao paulo                SP  \n",
       "1        sao paulo                SP  \n",
       "2        sao paulo                SP  \n",
       "3        sao paulo                SP  \n",
       "4        sao paulo                SP  "
      ]
     },
     "execution_count": 5,
     "metadata": {},
     "output_type": "execute_result"
    }
   ],
   "source": [
    "location.head(5)"
   ]
  },
  {
   "cell_type": "code",
   "execution_count": 6,
   "id": "abed39f5",
   "metadata": {},
   "outputs": [
    {
     "data": {
      "text/html": [
       "<div>\n",
       "<style scoped>\n",
       "    .dataframe tbody tr th:only-of-type {\n",
       "        vertical-align: middle;\n",
       "    }\n",
       "\n",
       "    .dataframe tbody tr th {\n",
       "        vertical-align: top;\n",
       "    }\n",
       "\n",
       "    .dataframe thead th {\n",
       "        text-align: right;\n",
       "    }\n",
       "</style>\n",
       "<table border=\"1\" class=\"dataframe\">\n",
       "  <thead>\n",
       "    <tr style=\"text-align: right;\">\n",
       "      <th></th>\n",
       "      <th>order_id</th>\n",
       "      <th>order_item_id</th>\n",
       "      <th>product_id</th>\n",
       "      <th>seller_id</th>\n",
       "      <th>shipping_limit_date</th>\n",
       "      <th>price</th>\n",
       "      <th>freight_value</th>\n",
       "    </tr>\n",
       "  </thead>\n",
       "  <tbody>\n",
       "    <tr>\n",
       "      <th>0</th>\n",
       "      <td>00010242fe8c5a6d1ba2dd792cb16214</td>\n",
       "      <td>1</td>\n",
       "      <td>4244733e06e7ecb4970a6e2683c13e61</td>\n",
       "      <td>48436dade18ac8b2bce089ec2a041202</td>\n",
       "      <td>2017-09-19 09:45:35</td>\n",
       "      <td>58.90</td>\n",
       "      <td>13.29</td>\n",
       "    </tr>\n",
       "    <tr>\n",
       "      <th>1</th>\n",
       "      <td>00018f77f2f0320c557190d7a144bdd3</td>\n",
       "      <td>1</td>\n",
       "      <td>e5f2d52b802189ee658865ca93d83a8f</td>\n",
       "      <td>dd7ddc04e1b6c2c614352b383efe2d36</td>\n",
       "      <td>2017-05-03 11:05:13</td>\n",
       "      <td>239.90</td>\n",
       "      <td>19.93</td>\n",
       "    </tr>\n",
       "    <tr>\n",
       "      <th>2</th>\n",
       "      <td>000229ec398224ef6ca0657da4fc703e</td>\n",
       "      <td>1</td>\n",
       "      <td>c777355d18b72b67abbeef9df44fd0fd</td>\n",
       "      <td>5b51032eddd242adc84c38acab88f23d</td>\n",
       "      <td>2018-01-18 14:48:30</td>\n",
       "      <td>199.00</td>\n",
       "      <td>17.87</td>\n",
       "    </tr>\n",
       "    <tr>\n",
       "      <th>3</th>\n",
       "      <td>00024acbcdf0a6daa1e931b038114c75</td>\n",
       "      <td>1</td>\n",
       "      <td>7634da152a4610f1595efa32f14722fc</td>\n",
       "      <td>9d7a1d34a5052409006425275ba1c2b4</td>\n",
       "      <td>2018-08-15 10:10:18</td>\n",
       "      <td>12.99</td>\n",
       "      <td>12.79</td>\n",
       "    </tr>\n",
       "    <tr>\n",
       "      <th>4</th>\n",
       "      <td>00042b26cf59d7ce69dfabb4e55b4fd9</td>\n",
       "      <td>1</td>\n",
       "      <td>ac6c3623068f30de03045865e4e10089</td>\n",
       "      <td>df560393f3a51e74553ab94004ba5c87</td>\n",
       "      <td>2017-02-13 13:57:51</td>\n",
       "      <td>199.90</td>\n",
       "      <td>18.14</td>\n",
       "    </tr>\n",
       "  </tbody>\n",
       "</table>\n",
       "</div>"
      ],
      "text/plain": [
       "                           order_id  order_item_id  \\\n",
       "0  00010242fe8c5a6d1ba2dd792cb16214              1   \n",
       "1  00018f77f2f0320c557190d7a144bdd3              1   \n",
       "2  000229ec398224ef6ca0657da4fc703e              1   \n",
       "3  00024acbcdf0a6daa1e931b038114c75              1   \n",
       "4  00042b26cf59d7ce69dfabb4e55b4fd9              1   \n",
       "\n",
       "                         product_id                         seller_id  \\\n",
       "0  4244733e06e7ecb4970a6e2683c13e61  48436dade18ac8b2bce089ec2a041202   \n",
       "1  e5f2d52b802189ee658865ca93d83a8f  dd7ddc04e1b6c2c614352b383efe2d36   \n",
       "2  c777355d18b72b67abbeef9df44fd0fd  5b51032eddd242adc84c38acab88f23d   \n",
       "3  7634da152a4610f1595efa32f14722fc  9d7a1d34a5052409006425275ba1c2b4   \n",
       "4  ac6c3623068f30de03045865e4e10089  df560393f3a51e74553ab94004ba5c87   \n",
       "\n",
       "   shipping_limit_date   price  freight_value  \n",
       "0  2017-09-19 09:45:35   58.90          13.29  \n",
       "1  2017-05-03 11:05:13  239.90          19.93  \n",
       "2  2018-01-18 14:48:30  199.00          17.87  \n",
       "3  2018-08-15 10:10:18   12.99          12.79  \n",
       "4  2017-02-13 13:57:51  199.90          18.14  "
      ]
     },
     "execution_count": 6,
     "metadata": {},
     "output_type": "execute_result"
    }
   ],
   "source": [
    "items.head(5)"
   ]
  },
  {
   "cell_type": "code",
   "execution_count": 7,
   "id": "64b9e092",
   "metadata": {},
   "outputs": [
    {
     "data": {
      "text/html": [
       "<div>\n",
       "<style scoped>\n",
       "    .dataframe tbody tr th:only-of-type {\n",
       "        vertical-align: middle;\n",
       "    }\n",
       "\n",
       "    .dataframe tbody tr th {\n",
       "        vertical-align: top;\n",
       "    }\n",
       "\n",
       "    .dataframe thead th {\n",
       "        text-align: right;\n",
       "    }\n",
       "</style>\n",
       "<table border=\"1\" class=\"dataframe\">\n",
       "  <thead>\n",
       "    <tr style=\"text-align: right;\">\n",
       "      <th></th>\n",
       "      <th>order_id</th>\n",
       "      <th>payment_sequential</th>\n",
       "      <th>payment_type</th>\n",
       "      <th>payment_installments</th>\n",
       "      <th>payment_value</th>\n",
       "    </tr>\n",
       "  </thead>\n",
       "  <tbody>\n",
       "    <tr>\n",
       "      <th>0</th>\n",
       "      <td>b81ef226f3fe1789b1e8b2acac839d17</td>\n",
       "      <td>1</td>\n",
       "      <td>credit_card</td>\n",
       "      <td>8</td>\n",
       "      <td>99.33</td>\n",
       "    </tr>\n",
       "    <tr>\n",
       "      <th>1</th>\n",
       "      <td>a9810da82917af2d9aefd1278f1dcfa0</td>\n",
       "      <td>1</td>\n",
       "      <td>credit_card</td>\n",
       "      <td>1</td>\n",
       "      <td>24.39</td>\n",
       "    </tr>\n",
       "    <tr>\n",
       "      <th>2</th>\n",
       "      <td>25e8ea4e93396b6fa0d3dd708e76c1bd</td>\n",
       "      <td>1</td>\n",
       "      <td>credit_card</td>\n",
       "      <td>1</td>\n",
       "      <td>65.71</td>\n",
       "    </tr>\n",
       "    <tr>\n",
       "      <th>3</th>\n",
       "      <td>ba78997921bbcdc1373bb41e913ab953</td>\n",
       "      <td>1</td>\n",
       "      <td>credit_card</td>\n",
       "      <td>8</td>\n",
       "      <td>107.78</td>\n",
       "    </tr>\n",
       "    <tr>\n",
       "      <th>4</th>\n",
       "      <td>42fdf880ba16b47b59251dd489d4441a</td>\n",
       "      <td>1</td>\n",
       "      <td>credit_card</td>\n",
       "      <td>2</td>\n",
       "      <td>128.45</td>\n",
       "    </tr>\n",
       "  </tbody>\n",
       "</table>\n",
       "</div>"
      ],
      "text/plain": [
       "                           order_id  payment_sequential payment_type  \\\n",
       "0  b81ef226f3fe1789b1e8b2acac839d17                   1  credit_card   \n",
       "1  a9810da82917af2d9aefd1278f1dcfa0                   1  credit_card   \n",
       "2  25e8ea4e93396b6fa0d3dd708e76c1bd                   1  credit_card   \n",
       "3  ba78997921bbcdc1373bb41e913ab953                   1  credit_card   \n",
       "4  42fdf880ba16b47b59251dd489d4441a                   1  credit_card   \n",
       "\n",
       "   payment_installments  payment_value  \n",
       "0                     8          99.33  \n",
       "1                     1          24.39  \n",
       "2                     1          65.71  \n",
       "3                     8         107.78  \n",
       "4                     2         128.45  "
      ]
     },
     "execution_count": 7,
     "metadata": {},
     "output_type": "execute_result"
    }
   ],
   "source": [
    "payments.head(5)"
   ]
  },
  {
   "cell_type": "code",
   "execution_count": 8,
   "id": "8a0d9674",
   "metadata": {},
   "outputs": [
    {
     "data": {
      "text/html": [
       "<div>\n",
       "<style scoped>\n",
       "    .dataframe tbody tr th:only-of-type {\n",
       "        vertical-align: middle;\n",
       "    }\n",
       "\n",
       "    .dataframe tbody tr th {\n",
       "        vertical-align: top;\n",
       "    }\n",
       "\n",
       "    .dataframe thead th {\n",
       "        text-align: right;\n",
       "    }\n",
       "</style>\n",
       "<table border=\"1\" class=\"dataframe\">\n",
       "  <thead>\n",
       "    <tr style=\"text-align: right;\">\n",
       "      <th></th>\n",
       "      <th>review_id</th>\n",
       "      <th>order_id</th>\n",
       "      <th>review_score</th>\n",
       "      <th>review_comment_title</th>\n",
       "      <th>review_comment_message</th>\n",
       "      <th>review_creation_date</th>\n",
       "      <th>review_answer_timestamp</th>\n",
       "    </tr>\n",
       "  </thead>\n",
       "  <tbody>\n",
       "    <tr>\n",
       "      <th>0</th>\n",
       "      <td>7bc2406110b926393aa56f80a40eba40</td>\n",
       "      <td>73fc7af87114b39712e6da79b0a377eb</td>\n",
       "      <td>4</td>\n",
       "      <td>NaN</td>\n",
       "      <td>NaN</td>\n",
       "      <td>2018-01-18 00:00:00</td>\n",
       "      <td>2018-01-18 21:46:59</td>\n",
       "    </tr>\n",
       "    <tr>\n",
       "      <th>1</th>\n",
       "      <td>80e641a11e56f04c1ad469d5645fdfde</td>\n",
       "      <td>a548910a1c6147796b98fdf73dbeba33</td>\n",
       "      <td>5</td>\n",
       "      <td>NaN</td>\n",
       "      <td>NaN</td>\n",
       "      <td>2018-03-10 00:00:00</td>\n",
       "      <td>2018-03-11 03:05:13</td>\n",
       "    </tr>\n",
       "    <tr>\n",
       "      <th>2</th>\n",
       "      <td>228ce5500dc1d8e020d8d1322874b6f0</td>\n",
       "      <td>f9e4b658b201a9f2ecdecbb34bed034b</td>\n",
       "      <td>5</td>\n",
       "      <td>NaN</td>\n",
       "      <td>NaN</td>\n",
       "      <td>2018-02-17 00:00:00</td>\n",
       "      <td>2018-02-18 14:36:24</td>\n",
       "    </tr>\n",
       "    <tr>\n",
       "      <th>3</th>\n",
       "      <td>e64fb393e7b32834bb789ff8bb30750e</td>\n",
       "      <td>658677c97b385a9be170737859d3511b</td>\n",
       "      <td>5</td>\n",
       "      <td>NaN</td>\n",
       "      <td>Recebi bem antes do prazo estipulado.</td>\n",
       "      <td>2017-04-21 00:00:00</td>\n",
       "      <td>2017-04-21 22:02:06</td>\n",
       "    </tr>\n",
       "    <tr>\n",
       "      <th>4</th>\n",
       "      <td>f7c4243c7fe1938f181bec41a392bdeb</td>\n",
       "      <td>8e6bfb81e283fa7e4f11123a3fb894f1</td>\n",
       "      <td>5</td>\n",
       "      <td>NaN</td>\n",
       "      <td>Parabéns lojas lannister adorei comprar pela I...</td>\n",
       "      <td>2018-03-01 00:00:00</td>\n",
       "      <td>2018-03-02 10:26:53</td>\n",
       "    </tr>\n",
       "  </tbody>\n",
       "</table>\n",
       "</div>"
      ],
      "text/plain": [
       "                          review_id                          order_id  \\\n",
       "0  7bc2406110b926393aa56f80a40eba40  73fc7af87114b39712e6da79b0a377eb   \n",
       "1  80e641a11e56f04c1ad469d5645fdfde  a548910a1c6147796b98fdf73dbeba33   \n",
       "2  228ce5500dc1d8e020d8d1322874b6f0  f9e4b658b201a9f2ecdecbb34bed034b   \n",
       "3  e64fb393e7b32834bb789ff8bb30750e  658677c97b385a9be170737859d3511b   \n",
       "4  f7c4243c7fe1938f181bec41a392bdeb  8e6bfb81e283fa7e4f11123a3fb894f1   \n",
       "\n",
       "   review_score review_comment_title  \\\n",
       "0             4                  NaN   \n",
       "1             5                  NaN   \n",
       "2             5                  NaN   \n",
       "3             5                  NaN   \n",
       "4             5                  NaN   \n",
       "\n",
       "                              review_comment_message review_creation_date  \\\n",
       "0                                                NaN  2018-01-18 00:00:00   \n",
       "1                                                NaN  2018-03-10 00:00:00   \n",
       "2                                                NaN  2018-02-17 00:00:00   \n",
       "3              Recebi bem antes do prazo estipulado.  2017-04-21 00:00:00   \n",
       "4  Parabéns lojas lannister adorei comprar pela I...  2018-03-01 00:00:00   \n",
       "\n",
       "  review_answer_timestamp  \n",
       "0     2018-01-18 21:46:59  \n",
       "1     2018-03-11 03:05:13  \n",
       "2     2018-02-18 14:36:24  \n",
       "3     2017-04-21 22:02:06  \n",
       "4     2018-03-02 10:26:53  "
      ]
     },
     "execution_count": 8,
     "metadata": {},
     "output_type": "execute_result"
    }
   ],
   "source": [
    "reviews.head(5)"
   ]
  },
  {
   "cell_type": "code",
   "execution_count": 9,
   "id": "0e88332e",
   "metadata": {},
   "outputs": [
    {
     "data": {
      "text/html": [
       "<div>\n",
       "<style scoped>\n",
       "    .dataframe tbody tr th:only-of-type {\n",
       "        vertical-align: middle;\n",
       "    }\n",
       "\n",
       "    .dataframe tbody tr th {\n",
       "        vertical-align: top;\n",
       "    }\n",
       "\n",
       "    .dataframe thead th {\n",
       "        text-align: right;\n",
       "    }\n",
       "</style>\n",
       "<table border=\"1\" class=\"dataframe\">\n",
       "  <thead>\n",
       "    <tr style=\"text-align: right;\">\n",
       "      <th></th>\n",
       "      <th>order_id</th>\n",
       "      <th>customer_id</th>\n",
       "      <th>order_status</th>\n",
       "      <th>order_purchase_timestamp</th>\n",
       "      <th>order_approved_at</th>\n",
       "      <th>order_delivered_carrier_date</th>\n",
       "      <th>order_delivered_customer_date</th>\n",
       "      <th>order_estimated_delivery_date</th>\n",
       "    </tr>\n",
       "  </thead>\n",
       "  <tbody>\n",
       "    <tr>\n",
       "      <th>0</th>\n",
       "      <td>e481f51cbdc54678b7cc49136f2d6af7</td>\n",
       "      <td>9ef432eb6251297304e76186b10a928d</td>\n",
       "      <td>delivered</td>\n",
       "      <td>2017-10-02 10:56:33</td>\n",
       "      <td>2017-10-02 11:07:15</td>\n",
       "      <td>2017-10-04 19:55:00</td>\n",
       "      <td>2017-10-10 21:25:13</td>\n",
       "      <td>2017-10-18 00:00:00</td>\n",
       "    </tr>\n",
       "    <tr>\n",
       "      <th>1</th>\n",
       "      <td>53cdb2fc8bc7dce0b6741e2150273451</td>\n",
       "      <td>b0830fb4747a6c6d20dea0b8c802d7ef</td>\n",
       "      <td>delivered</td>\n",
       "      <td>2018-07-24 20:41:37</td>\n",
       "      <td>2018-07-26 03:24:27</td>\n",
       "      <td>2018-07-26 14:31:00</td>\n",
       "      <td>2018-08-07 15:27:45</td>\n",
       "      <td>2018-08-13 00:00:00</td>\n",
       "    </tr>\n",
       "    <tr>\n",
       "      <th>2</th>\n",
       "      <td>47770eb9100c2d0c44946d9cf07ec65d</td>\n",
       "      <td>41ce2a54c0b03bf3443c3d931a367089</td>\n",
       "      <td>delivered</td>\n",
       "      <td>2018-08-08 08:38:49</td>\n",
       "      <td>2018-08-08 08:55:23</td>\n",
       "      <td>2018-08-08 13:50:00</td>\n",
       "      <td>2018-08-17 18:06:29</td>\n",
       "      <td>2018-09-04 00:00:00</td>\n",
       "    </tr>\n",
       "    <tr>\n",
       "      <th>3</th>\n",
       "      <td>949d5b44dbf5de918fe9c16f97b45f8a</td>\n",
       "      <td>f88197465ea7920adcdbec7375364d82</td>\n",
       "      <td>delivered</td>\n",
       "      <td>2017-11-18 19:28:06</td>\n",
       "      <td>2017-11-18 19:45:59</td>\n",
       "      <td>2017-11-22 13:39:59</td>\n",
       "      <td>2017-12-02 00:28:42</td>\n",
       "      <td>2017-12-15 00:00:00</td>\n",
       "    </tr>\n",
       "    <tr>\n",
       "      <th>4</th>\n",
       "      <td>ad21c59c0840e6cb83a9ceb5573f8159</td>\n",
       "      <td>8ab97904e6daea8866dbdbc4fb7aad2c</td>\n",
       "      <td>delivered</td>\n",
       "      <td>2018-02-13 21:18:39</td>\n",
       "      <td>2018-02-13 22:20:29</td>\n",
       "      <td>2018-02-14 19:46:34</td>\n",
       "      <td>2018-02-16 18:17:02</td>\n",
       "      <td>2018-02-26 00:00:00</td>\n",
       "    </tr>\n",
       "  </tbody>\n",
       "</table>\n",
       "</div>"
      ],
      "text/plain": [
       "                           order_id                       customer_id  \\\n",
       "0  e481f51cbdc54678b7cc49136f2d6af7  9ef432eb6251297304e76186b10a928d   \n",
       "1  53cdb2fc8bc7dce0b6741e2150273451  b0830fb4747a6c6d20dea0b8c802d7ef   \n",
       "2  47770eb9100c2d0c44946d9cf07ec65d  41ce2a54c0b03bf3443c3d931a367089   \n",
       "3  949d5b44dbf5de918fe9c16f97b45f8a  f88197465ea7920adcdbec7375364d82   \n",
       "4  ad21c59c0840e6cb83a9ceb5573f8159  8ab97904e6daea8866dbdbc4fb7aad2c   \n",
       "\n",
       "  order_status order_purchase_timestamp    order_approved_at  \\\n",
       "0    delivered      2017-10-02 10:56:33  2017-10-02 11:07:15   \n",
       "1    delivered      2018-07-24 20:41:37  2018-07-26 03:24:27   \n",
       "2    delivered      2018-08-08 08:38:49  2018-08-08 08:55:23   \n",
       "3    delivered      2017-11-18 19:28:06  2017-11-18 19:45:59   \n",
       "4    delivered      2018-02-13 21:18:39  2018-02-13 22:20:29   \n",
       "\n",
       "  order_delivered_carrier_date order_delivered_customer_date  \\\n",
       "0          2017-10-04 19:55:00           2017-10-10 21:25:13   \n",
       "1          2018-07-26 14:31:00           2018-08-07 15:27:45   \n",
       "2          2018-08-08 13:50:00           2018-08-17 18:06:29   \n",
       "3          2017-11-22 13:39:59           2017-12-02 00:28:42   \n",
       "4          2018-02-14 19:46:34           2018-02-16 18:17:02   \n",
       "\n",
       "  order_estimated_delivery_date  \n",
       "0           2017-10-18 00:00:00  \n",
       "1           2018-08-13 00:00:00  \n",
       "2           2018-09-04 00:00:00  \n",
       "3           2017-12-15 00:00:00  \n",
       "4           2018-02-26 00:00:00  "
      ]
     },
     "execution_count": 9,
     "metadata": {},
     "output_type": "execute_result"
    }
   ],
   "source": [
    "orders.head(5)"
   ]
  },
  {
   "cell_type": "code",
   "execution_count": 10,
   "id": "fb128701",
   "metadata": {},
   "outputs": [
    {
     "data": {
      "text/html": [
       "<div>\n",
       "<style scoped>\n",
       "    .dataframe tbody tr th:only-of-type {\n",
       "        vertical-align: middle;\n",
       "    }\n",
       "\n",
       "    .dataframe tbody tr th {\n",
       "        vertical-align: top;\n",
       "    }\n",
       "\n",
       "    .dataframe thead th {\n",
       "        text-align: right;\n",
       "    }\n",
       "</style>\n",
       "<table border=\"1\" class=\"dataframe\">\n",
       "  <thead>\n",
       "    <tr style=\"text-align: right;\">\n",
       "      <th></th>\n",
       "      <th>product_id</th>\n",
       "      <th>product_category_name</th>\n",
       "      <th>product_name_lenght</th>\n",
       "      <th>product_description_lenght</th>\n",
       "      <th>product_photos_qty</th>\n",
       "      <th>product_weight_g</th>\n",
       "      <th>product_length_cm</th>\n",
       "      <th>product_height_cm</th>\n",
       "      <th>product_width_cm</th>\n",
       "    </tr>\n",
       "  </thead>\n",
       "  <tbody>\n",
       "    <tr>\n",
       "      <th>0</th>\n",
       "      <td>1e9e8ef04dbcff4541ed26657ea517e5</td>\n",
       "      <td>perfumaria</td>\n",
       "      <td>40.0</td>\n",
       "      <td>287.0</td>\n",
       "      <td>1.0</td>\n",
       "      <td>225.0</td>\n",
       "      <td>16.0</td>\n",
       "      <td>10.0</td>\n",
       "      <td>14.0</td>\n",
       "    </tr>\n",
       "    <tr>\n",
       "      <th>1</th>\n",
       "      <td>3aa071139cb16b67ca9e5dea641aaa2f</td>\n",
       "      <td>artes</td>\n",
       "      <td>44.0</td>\n",
       "      <td>276.0</td>\n",
       "      <td>1.0</td>\n",
       "      <td>1000.0</td>\n",
       "      <td>30.0</td>\n",
       "      <td>18.0</td>\n",
       "      <td>20.0</td>\n",
       "    </tr>\n",
       "    <tr>\n",
       "      <th>2</th>\n",
       "      <td>96bd76ec8810374ed1b65e291975717f</td>\n",
       "      <td>esporte_lazer</td>\n",
       "      <td>46.0</td>\n",
       "      <td>250.0</td>\n",
       "      <td>1.0</td>\n",
       "      <td>154.0</td>\n",
       "      <td>18.0</td>\n",
       "      <td>9.0</td>\n",
       "      <td>15.0</td>\n",
       "    </tr>\n",
       "    <tr>\n",
       "      <th>3</th>\n",
       "      <td>cef67bcfe19066a932b7673e239eb23d</td>\n",
       "      <td>bebes</td>\n",
       "      <td>27.0</td>\n",
       "      <td>261.0</td>\n",
       "      <td>1.0</td>\n",
       "      <td>371.0</td>\n",
       "      <td>26.0</td>\n",
       "      <td>4.0</td>\n",
       "      <td>26.0</td>\n",
       "    </tr>\n",
       "    <tr>\n",
       "      <th>4</th>\n",
       "      <td>9dc1a7de274444849c219cff195d0b71</td>\n",
       "      <td>utilidades_domesticas</td>\n",
       "      <td>37.0</td>\n",
       "      <td>402.0</td>\n",
       "      <td>4.0</td>\n",
       "      <td>625.0</td>\n",
       "      <td>20.0</td>\n",
       "      <td>17.0</td>\n",
       "      <td>13.0</td>\n",
       "    </tr>\n",
       "  </tbody>\n",
       "</table>\n",
       "</div>"
      ],
      "text/plain": [
       "                         product_id  product_category_name  \\\n",
       "0  1e9e8ef04dbcff4541ed26657ea517e5             perfumaria   \n",
       "1  3aa071139cb16b67ca9e5dea641aaa2f                  artes   \n",
       "2  96bd76ec8810374ed1b65e291975717f          esporte_lazer   \n",
       "3  cef67bcfe19066a932b7673e239eb23d                  bebes   \n",
       "4  9dc1a7de274444849c219cff195d0b71  utilidades_domesticas   \n",
       "\n",
       "   product_name_lenght  product_description_lenght  product_photos_qty  \\\n",
       "0                 40.0                       287.0                 1.0   \n",
       "1                 44.0                       276.0                 1.0   \n",
       "2                 46.0                       250.0                 1.0   \n",
       "3                 27.0                       261.0                 1.0   \n",
       "4                 37.0                       402.0                 4.0   \n",
       "\n",
       "   product_weight_g  product_length_cm  product_height_cm  product_width_cm  \n",
       "0             225.0               16.0               10.0              14.0  \n",
       "1            1000.0               30.0               18.0              20.0  \n",
       "2             154.0               18.0                9.0              15.0  \n",
       "3             371.0               26.0                4.0              26.0  \n",
       "4             625.0               20.0               17.0              13.0  "
      ]
     },
     "execution_count": 10,
     "metadata": {},
     "output_type": "execute_result"
    }
   ],
   "source": [
    "products.head(5)"
   ]
  },
  {
   "cell_type": "code",
   "execution_count": 11,
   "id": "29543a79",
   "metadata": {},
   "outputs": [
    {
     "data": {
      "text/plain": [
       "count    103886.000000\n",
       "mean        154.100380\n",
       "std         217.494064\n",
       "min           0.000000\n",
       "25%          56.790000\n",
       "50%         100.000000\n",
       "75%         171.837500\n",
       "max       13664.080000\n",
       "Name: payment_value, dtype: float64"
      ]
     },
     "execution_count": 11,
     "metadata": {},
     "output_type": "execute_result"
    }
   ],
   "source": [
    "payments[\"payment_value\"].describe()"
   ]
  },
  {
   "cell_type": "code",
   "execution_count": 12,
   "id": "5139066b",
   "metadata": {},
   "outputs": [
    {
     "data": {
      "text/plain": [
       "count    112650.000000\n",
       "mean        120.653739\n",
       "std         183.633928\n",
       "min           0.850000\n",
       "25%          39.900000\n",
       "50%          74.990000\n",
       "75%         134.900000\n",
       "max        6735.000000\n",
       "Name: price, dtype: float64"
      ]
     },
     "execution_count": 12,
     "metadata": {},
     "output_type": "execute_result"
    }
   ],
   "source": [
    "items[\"price\"].describe()"
   ]
  },
  {
   "cell_type": "code",
   "execution_count": 13,
   "id": "acfa7124",
   "metadata": {},
   "outputs": [
    {
     "data": {
      "text/plain": [
       "count    112650.000000\n",
       "mean         19.990320\n",
       "std          15.806405\n",
       "min           0.000000\n",
       "25%          13.080000\n",
       "50%          16.260000\n",
       "75%          21.150000\n",
       "max         409.680000\n",
       "Name: freight_value, dtype: float64"
      ]
     },
     "execution_count": 13,
     "metadata": {},
     "output_type": "execute_result"
    }
   ],
   "source": [
    "items[\"freight_value\"].describe()"
   ]
  },
  {
   "cell_type": "code",
   "execution_count": 14,
   "id": "f7c81f76",
   "metadata": {},
   "outputs": [
    {
     "data": {
      "text/plain": [
       "order_id                object\n",
       "order_item_id            int64\n",
       "product_id              object\n",
       "seller_id               object\n",
       "shipping_limit_date     object\n",
       "price                  float64\n",
       "freight_value          float64\n",
       "dtype: object"
      ]
     },
     "execution_count": 14,
     "metadata": {},
     "output_type": "execute_result"
    }
   ],
   "source": [
    "items.dtypes"
   ]
  },
  {
   "cell_type": "code",
   "execution_count": 15,
   "id": "630cd438",
   "metadata": {},
   "outputs": [
    {
     "data": {
      "text/plain": [
       "order_id                     category\n",
       "order_item_id                   int64\n",
       "product_id                   category\n",
       "seller_id                    category\n",
       "shipping_limit_date    datetime64[ns]\n",
       "price                         float64\n",
       "freight_value                 float64\n",
       "dtype: object"
      ]
     },
     "execution_count": 15,
     "metadata": {},
     "output_type": "execute_result"
    }
   ],
   "source": [
    "items[\"order_id\"] = items[\"order_id\"].astype(\"category\")\n",
    "items[\"product_id\"] = items[\"product_id\"].astype(\"category\")\n",
    "items[\"seller_id\"] = items[\"seller_id\"].astype(\"category\")\n",
    "items[\"shipping_limit_date\"] = pd.to_datetime(items[\"shipping_limit_date\"], format=\"%Y/%m/%d %H:%M:%S\")\n",
    "items.dtypes"
   ]
  },
  {
   "cell_type": "code",
   "execution_count": 16,
   "id": "82176c63",
   "metadata": {},
   "outputs": [
    {
     "data": {
      "text/plain": [
       "customer_id                 object\n",
       "customer_unique_id          object\n",
       "customer_zip_code_prefix     int64\n",
       "customer_city               object\n",
       "customer_state              object\n",
       "dtype: object"
      ]
     },
     "execution_count": 16,
     "metadata": {},
     "output_type": "execute_result"
    }
   ],
   "source": [
    "customers.dtypes"
   ]
  },
  {
   "cell_type": "code",
   "execution_count": 17,
   "id": "19cae27d",
   "metadata": {},
   "outputs": [
    {
     "data": {
      "text/plain": [
       "customer_id                 category\n",
       "customer_unique_id          category\n",
       "customer_zip_code_prefix       int64\n",
       "customer_city               category\n",
       "customer_state              category\n",
       "dtype: object"
      ]
     },
     "execution_count": 17,
     "metadata": {},
     "output_type": "execute_result"
    }
   ],
   "source": [
    "customers[\"customer_id\"] = customers[\"customer_id\"].astype(\"category\")\n",
    "customers[\"customer_unique_id\"] = customers[\"customer_unique_id\"].astype(\"category\")\n",
    "customers[\"customer_city\"] = customers[\"customer_city\"].astype(\"category\")\n",
    "customers[\"customer_state\"] = customers[\"customer_state\"].astype(\"category\")\n",
    "customers.dtypes"
   ]
  },
  {
   "cell_type": "code",
   "execution_count": 18,
   "id": "5e488e81",
   "metadata": {},
   "outputs": [
    {
     "data": {
      "text/plain": [
       "geolocation_zip_code_prefix      int64\n",
       "geolocation_lat                float64\n",
       "geolocation_lng                float64\n",
       "geolocation_city                object\n",
       "geolocation_state               object\n",
       "dtype: object"
      ]
     },
     "execution_count": 18,
     "metadata": {},
     "output_type": "execute_result"
    }
   ],
   "source": [
    "location.dtypes"
   ]
  },
  {
   "cell_type": "code",
   "execution_count": 19,
   "id": "cb0b9e05",
   "metadata": {},
   "outputs": [
    {
     "data": {
      "text/plain": [
       "geolocation_zip_code_prefix       int64\n",
       "geolocation_lat                 float64\n",
       "geolocation_lng                 float64\n",
       "geolocation_city               category\n",
       "geolocation_state              category\n",
       "dtype: object"
      ]
     },
     "execution_count": 19,
     "metadata": {},
     "output_type": "execute_result"
    }
   ],
   "source": [
    "location[\"geolocation_city\"] = location[\"geolocation_city\"].astype(\"category\")\n",
    "location[\"geolocation_state\"] = location[\"geolocation_state\"].astype(\"category\")\n",
    "location.dtypes"
   ]
  },
  {
   "cell_type": "code",
   "execution_count": 20,
   "id": "8314d128",
   "metadata": {},
   "outputs": [
    {
     "data": {
      "text/plain": [
       "order_id                 object\n",
       "payment_sequential        int64\n",
       "payment_type             object\n",
       "payment_installments      int64\n",
       "payment_value           float64\n",
       "dtype: object"
      ]
     },
     "execution_count": 20,
     "metadata": {},
     "output_type": "execute_result"
    }
   ],
   "source": [
    "payments.dtypes"
   ]
  },
  {
   "cell_type": "code",
   "execution_count": 21,
   "id": "188fe448",
   "metadata": {},
   "outputs": [
    {
     "data": {
      "text/plain": [
       "order_id                category\n",
       "payment_sequential         int64\n",
       "payment_type            category\n",
       "payment_installments       int64\n",
       "payment_value            float64\n",
       "dtype: object"
      ]
     },
     "execution_count": 21,
     "metadata": {},
     "output_type": "execute_result"
    }
   ],
   "source": [
    "payments[\"order_id\"] = payments[\"order_id\"].astype(\"category\")\n",
    "payments[\"payment_type\"] = payments[\"payment_type\"].astype(\"category\")\n",
    "payments.dtypes"
   ]
  },
  {
   "cell_type": "code",
   "execution_count": 22,
   "id": "bf1ba3fb",
   "metadata": {},
   "outputs": [
    {
     "data": {
      "text/plain": [
       "product_id                     object\n",
       "product_category_name          object\n",
       "product_name_lenght           float64\n",
       "product_description_lenght    float64\n",
       "product_photos_qty            float64\n",
       "product_weight_g              float64\n",
       "product_length_cm             float64\n",
       "product_height_cm             float64\n",
       "product_width_cm              float64\n",
       "dtype: object"
      ]
     },
     "execution_count": 22,
     "metadata": {},
     "output_type": "execute_result"
    }
   ],
   "source": [
    "products.dtypes"
   ]
  },
  {
   "cell_type": "code",
   "execution_count": 23,
   "id": "93ff4eae",
   "metadata": {},
   "outputs": [
    {
     "data": {
      "text/plain": [
       "product_id                    category\n",
       "product_category_name         category\n",
       "product_name_lenght            float64\n",
       "product_description_lenght     float64\n",
       "product_photos_qty             float64\n",
       "product_weight_g               float64\n",
       "product_length_cm              float64\n",
       "product_height_cm              float64\n",
       "product_width_cm               float64\n",
       "dtype: object"
      ]
     },
     "execution_count": 23,
     "metadata": {},
     "output_type": "execute_result"
    }
   ],
   "source": [
    "products[\"product_id\"] = products[\"product_id\"].astype(\"category\")\n",
    "products[\"product_category_name\"] = products[\"product_category_name\"].astype(\"category\")\n",
    "products.dtypes"
   ]
  },
  {
   "cell_type": "code",
   "execution_count": 24,
   "id": "5b75d1e8",
   "metadata": {},
   "outputs": [
    {
     "data": {
      "text/plain": [
       "seller_id                 object\n",
       "seller_zip_code_prefix     int64\n",
       "seller_city               object\n",
       "seller_state              object\n",
       "dtype: object"
      ]
     },
     "execution_count": 24,
     "metadata": {},
     "output_type": "execute_result"
    }
   ],
   "source": [
    "sellers.dtypes"
   ]
  },
  {
   "cell_type": "code",
   "execution_count": 25,
   "id": "94c131da",
   "metadata": {},
   "outputs": [
    {
     "data": {
      "text/plain": [
       "seller_id                 category\n",
       "seller_zip_code_prefix       int64\n",
       "seller_city               category\n",
       "seller_state              category\n",
       "dtype: object"
      ]
     },
     "execution_count": 25,
     "metadata": {},
     "output_type": "execute_result"
    }
   ],
   "source": [
    "sellers[\"seller_id\"] = sellers[\"seller_id\"].astype(\"category\")\n",
    "sellers[\"seller_city\"] = sellers[\"seller_city\"].astype(\"category\")\n",
    "sellers[\"seller_state\"] = sellers[\"seller_state\"].astype(\"category\")\n",
    "sellers.dtypes"
   ]
  },
  {
   "cell_type": "code",
   "execution_count": 26,
   "id": "a2270d4d",
   "metadata": {},
   "outputs": [
    {
     "data": {
      "text/plain": [
       "review_id                  object\n",
       "order_id                   object\n",
       "review_score                int64\n",
       "review_comment_title       object\n",
       "review_comment_message     object\n",
       "review_creation_date       object\n",
       "review_answer_timestamp    object\n",
       "dtype: object"
      ]
     },
     "execution_count": 26,
     "metadata": {},
     "output_type": "execute_result"
    }
   ],
   "source": [
    "reviews.dtypes"
   ]
  },
  {
   "cell_type": "code",
   "execution_count": 27,
   "id": "41c7f532",
   "metadata": {},
   "outputs": [
    {
     "data": {
      "text/plain": [
       "review_id                        category\n",
       "order_id                         category\n",
       "review_score                        int64\n",
       "review_comment_title             category\n",
       "review_comment_message           category\n",
       "review_creation_date       datetime64[ns]\n",
       "review_answer_timestamp    datetime64[ns]\n",
       "dtype: object"
      ]
     },
     "execution_count": 27,
     "metadata": {},
     "output_type": "execute_result"
    }
   ],
   "source": [
    "reviews[\"review_id\"] = reviews[\"review_id\"].astype(\"category\")\n",
    "reviews[\"order_id\"] = reviews[\"order_id\"].astype(\"category\")\n",
    "reviews[\"review_comment_title\"] = reviews[\"review_comment_title\"].astype(\"category\")\n",
    "reviews[\"review_comment_message\"] = reviews[\"review_comment_message\"].astype(\"category\")\n",
    "reviews[\"review_creation_date\"] = pd.to_datetime(reviews[\"review_creation_date\"], format=\"%Y/%m/%d %H:%M:%S\")\n",
    "reviews[\"review_answer_timestamp\"] = pd.to_datetime(reviews[\"review_answer_timestamp\"], format=\"%Y/%m/%d %H:%M:%S\")\n",
    "reviews.dtypes"
   ]
  },
  {
   "cell_type": "code",
   "execution_count": 28,
   "id": "57180d3d",
   "metadata": {},
   "outputs": [
    {
     "data": {
      "text/plain": [
       "(99224, 7)"
      ]
     },
     "execution_count": 28,
     "metadata": {},
     "output_type": "execute_result"
    }
   ],
   "source": [
    "reviews.shape"
   ]
  },
  {
   "cell_type": "code",
   "execution_count": 29,
   "id": "a2f96794",
   "metadata": {},
   "outputs": [
    {
     "data": {
      "text/plain": [
       "(98128, 5)"
      ]
     },
     "execution_count": 29,
     "metadata": {},
     "output_type": "execute_result"
    }
   ],
   "source": [
    "# remove reviews duplicados\n",
    "reviews.sort_values(by=[\"review_id\", \"review_creation_date\"], ascending=True, inplace=True)\n",
    "\n",
    "reviews = reviews.drop_duplicates(keep=\"last\", subset=[\"review_id\"])\n",
    "reviews.sort_values(by=[\"order_id\", \"review_creation_date\"], ascending=True, inplace=True)\n",
    "reviews = reviews.drop_duplicates(keep=\"last\", subset=[\"order_id\"])\n",
    "# reviews[\"order_id\"].duplicated().value_counts()\n",
    "reviews.drop([\"review_comment_title\", \"review_comment_message\"],axis=\"columns\", inplace=True ) \n",
    "\n",
    "reviews.shape"
   ]
  },
  {
   "cell_type": "code",
   "execution_count": 30,
   "id": "1c5dac1d",
   "metadata": {},
   "outputs": [
    {
     "data": {
      "text/html": [
       "<div>\n",
       "<style scoped>\n",
       "    .dataframe tbody tr th:only-of-type {\n",
       "        vertical-align: middle;\n",
       "    }\n",
       "\n",
       "    .dataframe tbody tr th {\n",
       "        vertical-align: top;\n",
       "    }\n",
       "\n",
       "    .dataframe thead th {\n",
       "        text-align: right;\n",
       "    }\n",
       "</style>\n",
       "<table border=\"1\" class=\"dataframe\">\n",
       "  <thead>\n",
       "    <tr style=\"text-align: right;\">\n",
       "      <th></th>\n",
       "      <th>order_id</th>\n",
       "      <th>payment_sequential</th>\n",
       "      <th>payment_type</th>\n",
       "      <th>payment_installments</th>\n",
       "      <th>payment_value</th>\n",
       "    </tr>\n",
       "  </thead>\n",
       "  <tbody>\n",
       "    <tr>\n",
       "      <th>0</th>\n",
       "      <td>b81ef226f3fe1789b1e8b2acac839d17</td>\n",
       "      <td>1</td>\n",
       "      <td>credit_card</td>\n",
       "      <td>8</td>\n",
       "      <td>99.33</td>\n",
       "    </tr>\n",
       "    <tr>\n",
       "      <th>1</th>\n",
       "      <td>a9810da82917af2d9aefd1278f1dcfa0</td>\n",
       "      <td>1</td>\n",
       "      <td>credit_card</td>\n",
       "      <td>1</td>\n",
       "      <td>24.39</td>\n",
       "    </tr>\n",
       "    <tr>\n",
       "      <th>2</th>\n",
       "      <td>25e8ea4e93396b6fa0d3dd708e76c1bd</td>\n",
       "      <td>1</td>\n",
       "      <td>credit_card</td>\n",
       "      <td>1</td>\n",
       "      <td>65.71</td>\n",
       "    </tr>\n",
       "    <tr>\n",
       "      <th>3</th>\n",
       "      <td>ba78997921bbcdc1373bb41e913ab953</td>\n",
       "      <td>1</td>\n",
       "      <td>credit_card</td>\n",
       "      <td>8</td>\n",
       "      <td>107.78</td>\n",
       "    </tr>\n",
       "    <tr>\n",
       "      <th>4</th>\n",
       "      <td>42fdf880ba16b47b59251dd489d4441a</td>\n",
       "      <td>1</td>\n",
       "      <td>credit_card</td>\n",
       "      <td>2</td>\n",
       "      <td>128.45</td>\n",
       "    </tr>\n",
       "    <tr>\n",
       "      <th>...</th>\n",
       "      <td>...</td>\n",
       "      <td>...</td>\n",
       "      <td>...</td>\n",
       "      <td>...</td>\n",
       "      <td>...</td>\n",
       "    </tr>\n",
       "    <tr>\n",
       "      <th>103881</th>\n",
       "      <td>0406037ad97740d563a178ecc7a2075c</td>\n",
       "      <td>1</td>\n",
       "      <td>boleto</td>\n",
       "      <td>1</td>\n",
       "      <td>363.31</td>\n",
       "    </tr>\n",
       "    <tr>\n",
       "      <th>103882</th>\n",
       "      <td>7b905861d7c825891d6347454ea7863f</td>\n",
       "      <td>1</td>\n",
       "      <td>credit_card</td>\n",
       "      <td>2</td>\n",
       "      <td>96.80</td>\n",
       "    </tr>\n",
       "    <tr>\n",
       "      <th>103883</th>\n",
       "      <td>32609bbb3dd69b3c066a6860554a77bf</td>\n",
       "      <td>1</td>\n",
       "      <td>credit_card</td>\n",
       "      <td>1</td>\n",
       "      <td>47.77</td>\n",
       "    </tr>\n",
       "    <tr>\n",
       "      <th>103884</th>\n",
       "      <td>b8b61059626efa996a60be9bb9320e10</td>\n",
       "      <td>1</td>\n",
       "      <td>credit_card</td>\n",
       "      <td>5</td>\n",
       "      <td>369.54</td>\n",
       "    </tr>\n",
       "    <tr>\n",
       "      <th>103885</th>\n",
       "      <td>28bbae6599b09d39ca406b747b6632b1</td>\n",
       "      <td>1</td>\n",
       "      <td>boleto</td>\n",
       "      <td>1</td>\n",
       "      <td>191.58</td>\n",
       "    </tr>\n",
       "  </tbody>\n",
       "</table>\n",
       "<p>99360 rows × 5 columns</p>\n",
       "</div>"
      ],
      "text/plain": [
       "                                order_id  payment_sequential payment_type  \\\n",
       "0       b81ef226f3fe1789b1e8b2acac839d17                   1  credit_card   \n",
       "1       a9810da82917af2d9aefd1278f1dcfa0                   1  credit_card   \n",
       "2       25e8ea4e93396b6fa0d3dd708e76c1bd                   1  credit_card   \n",
       "3       ba78997921bbcdc1373bb41e913ab953                   1  credit_card   \n",
       "4       42fdf880ba16b47b59251dd489d4441a                   1  credit_card   \n",
       "...                                  ...                 ...          ...   \n",
       "103881  0406037ad97740d563a178ecc7a2075c                   1       boleto   \n",
       "103882  7b905861d7c825891d6347454ea7863f                   1  credit_card   \n",
       "103883  32609bbb3dd69b3c066a6860554a77bf                   1  credit_card   \n",
       "103884  b8b61059626efa996a60be9bb9320e10                   1  credit_card   \n",
       "103885  28bbae6599b09d39ca406b747b6632b1                   1       boleto   \n",
       "\n",
       "        payment_installments  payment_value  \n",
       "0                          8          99.33  \n",
       "1                          1          24.39  \n",
       "2                          1          65.71  \n",
       "3                          8         107.78  \n",
       "4                          2         128.45  \n",
       "...                      ...            ...  \n",
       "103881                     1         363.31  \n",
       "103882                     2          96.80  \n",
       "103883                     1          47.77  \n",
       "103884                     5         369.54  \n",
       "103885                     1         191.58  \n",
       "\n",
       "[99360 rows x 5 columns]"
      ]
     },
     "execution_count": 30,
     "metadata": {},
     "output_type": "execute_result"
    }
   ],
   "source": [
    "# remove pagamentos adicionais \n",
    "payments = payments[payments[\"payment_sequential\"]==1] \n",
    "payments"
   ]
  },
  {
   "cell_type": "code",
   "execution_count": 31,
   "id": "169c000b",
   "metadata": {},
   "outputs": [
    {
     "data": {
      "text/html": [
       "<div>\n",
       "<style scoped>\n",
       "    .dataframe tbody tr th:only-of-type {\n",
       "        vertical-align: middle;\n",
       "    }\n",
       "\n",
       "    .dataframe tbody tr th {\n",
       "        vertical-align: top;\n",
       "    }\n",
       "\n",
       "    .dataframe thead th {\n",
       "        text-align: right;\n",
       "    }\n",
       "</style>\n",
       "<table border=\"1\" class=\"dataframe\">\n",
       "  <thead>\n",
       "    <tr style=\"text-align: right;\">\n",
       "      <th></th>\n",
       "      <th>order_id</th>\n",
       "      <th>order_item_id</th>\n",
       "      <th>product_id</th>\n",
       "      <th>seller_id</th>\n",
       "      <th>shipping_limit_date</th>\n",
       "      <th>price</th>\n",
       "      <th>freight_value</th>\n",
       "    </tr>\n",
       "  </thead>\n",
       "  <tbody>\n",
       "    <tr>\n",
       "      <th>0</th>\n",
       "      <td>00010242fe8c5a6d1ba2dd792cb16214</td>\n",
       "      <td>1</td>\n",
       "      <td>4244733e06e7ecb4970a6e2683c13e61</td>\n",
       "      <td>48436dade18ac8b2bce089ec2a041202</td>\n",
       "      <td>2017-09-19 09:45:35</td>\n",
       "      <td>58.90</td>\n",
       "      <td>13.29</td>\n",
       "    </tr>\n",
       "    <tr>\n",
       "      <th>1</th>\n",
       "      <td>00018f77f2f0320c557190d7a144bdd3</td>\n",
       "      <td>1</td>\n",
       "      <td>e5f2d52b802189ee658865ca93d83a8f</td>\n",
       "      <td>dd7ddc04e1b6c2c614352b383efe2d36</td>\n",
       "      <td>2017-05-03 11:05:13</td>\n",
       "      <td>239.90</td>\n",
       "      <td>19.93</td>\n",
       "    </tr>\n",
       "    <tr>\n",
       "      <th>2</th>\n",
       "      <td>000229ec398224ef6ca0657da4fc703e</td>\n",
       "      <td>1</td>\n",
       "      <td>c777355d18b72b67abbeef9df44fd0fd</td>\n",
       "      <td>5b51032eddd242adc84c38acab88f23d</td>\n",
       "      <td>2018-01-18 14:48:30</td>\n",
       "      <td>199.00</td>\n",
       "      <td>17.87</td>\n",
       "    </tr>\n",
       "    <tr>\n",
       "      <th>3</th>\n",
       "      <td>00024acbcdf0a6daa1e931b038114c75</td>\n",
       "      <td>1</td>\n",
       "      <td>7634da152a4610f1595efa32f14722fc</td>\n",
       "      <td>9d7a1d34a5052409006425275ba1c2b4</td>\n",
       "      <td>2018-08-15 10:10:18</td>\n",
       "      <td>12.99</td>\n",
       "      <td>12.79</td>\n",
       "    </tr>\n",
       "    <tr>\n",
       "      <th>4</th>\n",
       "      <td>00042b26cf59d7ce69dfabb4e55b4fd9</td>\n",
       "      <td>1</td>\n",
       "      <td>ac6c3623068f30de03045865e4e10089</td>\n",
       "      <td>df560393f3a51e74553ab94004ba5c87</td>\n",
       "      <td>2017-02-13 13:57:51</td>\n",
       "      <td>199.90</td>\n",
       "      <td>18.14</td>\n",
       "    </tr>\n",
       "    <tr>\n",
       "      <th>...</th>\n",
       "      <td>...</td>\n",
       "      <td>...</td>\n",
       "      <td>...</td>\n",
       "      <td>...</td>\n",
       "      <td>...</td>\n",
       "      <td>...</td>\n",
       "      <td>...</td>\n",
       "    </tr>\n",
       "    <tr>\n",
       "      <th>112645</th>\n",
       "      <td>fffc94f6ce00a00581880bf54a75a037</td>\n",
       "      <td>1</td>\n",
       "      <td>4aa6014eceb682077f9dc4bffebc05b0</td>\n",
       "      <td>b8bc237ba3788b23da09c0f1f3a3288c</td>\n",
       "      <td>2018-05-02 04:11:01</td>\n",
       "      <td>299.99</td>\n",
       "      <td>43.41</td>\n",
       "    </tr>\n",
       "    <tr>\n",
       "      <th>112646</th>\n",
       "      <td>fffcd46ef2263f404302a634eb57f7eb</td>\n",
       "      <td>1</td>\n",
       "      <td>32e07fd915822b0765e448c4dd74c828</td>\n",
       "      <td>f3c38ab652836d21de61fb8314b69182</td>\n",
       "      <td>2018-07-20 04:31:48</td>\n",
       "      <td>350.00</td>\n",
       "      <td>36.53</td>\n",
       "    </tr>\n",
       "    <tr>\n",
       "      <th>112647</th>\n",
       "      <td>fffce4705a9662cd70adb13d4a31832d</td>\n",
       "      <td>1</td>\n",
       "      <td>72a30483855e2eafc67aee5dc2560482</td>\n",
       "      <td>c3cfdc648177fdbbbb35635a37472c53</td>\n",
       "      <td>2017-10-30 17:14:25</td>\n",
       "      <td>99.90</td>\n",
       "      <td>16.95</td>\n",
       "    </tr>\n",
       "    <tr>\n",
       "      <th>112648</th>\n",
       "      <td>fffe18544ffabc95dfada21779c9644f</td>\n",
       "      <td>1</td>\n",
       "      <td>9c422a519119dcad7575db5af1ba540e</td>\n",
       "      <td>2b3e4a2a3ea8e01938cabda2a3e5cc79</td>\n",
       "      <td>2017-08-21 00:04:32</td>\n",
       "      <td>55.99</td>\n",
       "      <td>8.72</td>\n",
       "    </tr>\n",
       "    <tr>\n",
       "      <th>112649</th>\n",
       "      <td>fffe41c64501cc87c801fd61db3f6244</td>\n",
       "      <td>1</td>\n",
       "      <td>350688d9dc1e75ff97be326363655e01</td>\n",
       "      <td>f7ccf836d21b2fb1de37564105216cc1</td>\n",
       "      <td>2018-06-12 17:10:13</td>\n",
       "      <td>43.00</td>\n",
       "      <td>12.79</td>\n",
       "    </tr>\n",
       "  </tbody>\n",
       "</table>\n",
       "<p>98666 rows × 7 columns</p>\n",
       "</div>"
      ],
      "text/plain": [
       "                                order_id  order_item_id  \\\n",
       "0       00010242fe8c5a6d1ba2dd792cb16214              1   \n",
       "1       00018f77f2f0320c557190d7a144bdd3              1   \n",
       "2       000229ec398224ef6ca0657da4fc703e              1   \n",
       "3       00024acbcdf0a6daa1e931b038114c75              1   \n",
       "4       00042b26cf59d7ce69dfabb4e55b4fd9              1   \n",
       "...                                  ...            ...   \n",
       "112645  fffc94f6ce00a00581880bf54a75a037              1   \n",
       "112646  fffcd46ef2263f404302a634eb57f7eb              1   \n",
       "112647  fffce4705a9662cd70adb13d4a31832d              1   \n",
       "112648  fffe18544ffabc95dfada21779c9644f              1   \n",
       "112649  fffe41c64501cc87c801fd61db3f6244              1   \n",
       "\n",
       "                              product_id                         seller_id  \\\n",
       "0       4244733e06e7ecb4970a6e2683c13e61  48436dade18ac8b2bce089ec2a041202   \n",
       "1       e5f2d52b802189ee658865ca93d83a8f  dd7ddc04e1b6c2c614352b383efe2d36   \n",
       "2       c777355d18b72b67abbeef9df44fd0fd  5b51032eddd242adc84c38acab88f23d   \n",
       "3       7634da152a4610f1595efa32f14722fc  9d7a1d34a5052409006425275ba1c2b4   \n",
       "4       ac6c3623068f30de03045865e4e10089  df560393f3a51e74553ab94004ba5c87   \n",
       "...                                  ...                               ...   \n",
       "112645  4aa6014eceb682077f9dc4bffebc05b0  b8bc237ba3788b23da09c0f1f3a3288c   \n",
       "112646  32e07fd915822b0765e448c4dd74c828  f3c38ab652836d21de61fb8314b69182   \n",
       "112647  72a30483855e2eafc67aee5dc2560482  c3cfdc648177fdbbbb35635a37472c53   \n",
       "112648  9c422a519119dcad7575db5af1ba540e  2b3e4a2a3ea8e01938cabda2a3e5cc79   \n",
       "112649  350688d9dc1e75ff97be326363655e01  f7ccf836d21b2fb1de37564105216cc1   \n",
       "\n",
       "       shipping_limit_date   price  freight_value  \n",
       "0      2017-09-19 09:45:35   58.90          13.29  \n",
       "1      2017-05-03 11:05:13  239.90          19.93  \n",
       "2      2018-01-18 14:48:30  199.00          17.87  \n",
       "3      2018-08-15 10:10:18   12.99          12.79  \n",
       "4      2017-02-13 13:57:51  199.90          18.14  \n",
       "...                    ...     ...            ...  \n",
       "112645 2018-05-02 04:11:01  299.99          43.41  \n",
       "112646 2018-07-20 04:31:48  350.00          36.53  \n",
       "112647 2017-10-30 17:14:25   99.90          16.95  \n",
       "112648 2017-08-21 00:04:32   55.99           8.72  \n",
       "112649 2018-06-12 17:10:13   43.00          12.79  \n",
       "\n",
       "[98666 rows x 7 columns]"
      ]
     },
     "execution_count": 31,
     "metadata": {},
     "output_type": "execute_result"
    }
   ],
   "source": [
    "items = items[items[\"order_item_id\"]==1] \n",
    "items"
   ]
  },
  {
   "cell_type": "code",
   "execution_count": 32,
   "id": "0bd2182c",
   "metadata": {},
   "outputs": [
    {
     "data": {
      "text/plain": [
       "False    99441\n",
       "Name: order_id, dtype: int64"
      ]
     },
     "execution_count": 32,
     "metadata": {},
     "output_type": "execute_result"
    }
   ],
   "source": [
    "#  not in payments[\"order_id\"] \n",
    "payment_order = pd.merge(items, orders, how=\"right\", on = \"order_id\")\n",
    "payment_order[\"order_id\"].isnull().value_counts()\n"
   ]
  },
  {
   "cell_type": "code",
   "execution_count": 33,
   "id": "73c983a8",
   "metadata": {},
   "outputs": [
    {
     "data": {
      "text/html": [
       "<div>\n",
       "<style scoped>\n",
       "    .dataframe tbody tr th:only-of-type {\n",
       "        vertical-align: middle;\n",
       "    }\n",
       "\n",
       "    .dataframe tbody tr th {\n",
       "        vertical-align: top;\n",
       "    }\n",
       "\n",
       "    .dataframe thead th {\n",
       "        text-align: right;\n",
       "    }\n",
       "</style>\n",
       "<table border=\"1\" class=\"dataframe\">\n",
       "  <thead>\n",
       "    <tr style=\"text-align: right;\">\n",
       "      <th></th>\n",
       "      <th>order_id</th>\n",
       "      <th>payment_sequential</th>\n",
       "      <th>payment_type</th>\n",
       "      <th>payment_installments</th>\n",
       "      <th>payment_value</th>\n",
       "    </tr>\n",
       "  </thead>\n",
       "  <tbody>\n",
       "    <tr>\n",
       "      <th>62830</th>\n",
       "      <td>332c6742772f2df936696b6512b10edb</td>\n",
       "      <td>1</td>\n",
       "      <td>credit_card</td>\n",
       "      <td>1</td>\n",
       "      <td>8.7</td>\n",
       "    </tr>\n",
       "  </tbody>\n",
       "</table>\n",
       "</div>"
      ],
      "text/plain": [
       "                               order_id  payment_sequential payment_type  \\\n",
       "62830  332c6742772f2df936696b6512b10edb                   1  credit_card   \n",
       "\n",
       "       payment_installments  payment_value  \n",
       "62830                     1            8.7  "
      ]
     },
     "execution_count": 33,
     "metadata": {},
     "output_type": "execute_result"
    }
   ],
   "source": [
    "# payments[\"order_id\"].duplicated().value_counts()\n",
    "payments[payments[\"order_id\"]==\"683bf306149bb869980b68d48a1bd6ab\"]\n",
    "# payments[(payments[\"order_id\"].duplicated()) & (payments[\"order_id\"]==\"683bf306149bb869980b68d48a1bd6ab\")]\n",
    "\n",
    "# payments[payments[\"payment_type\"] == \"not_defined\"] # -> cancelado \n",
    "# orders[orders[\"order_id\"] == \"4637ca194b6387e2d538dc89b124b0ee\"]\n",
    "# def agregate_total_pay(order_id):\n",
    "#   def pay(x):\n",
    "#     return payments[\"payment_type\"] not in [\"voucher\", \"not_defined\"]\n",
    "#   return pay\n",
    "# def agregate_total_discount(order_id):\n",
    "#   def pay(x):\n",
    "#     return payments[\"payment_type\"] not in [\"voucher\", \"not_defined\"]\n",
    "#   return pay\n",
    "\n",
    "\n",
    "\n",
    "# payments[(payments[\"payment_type\"] == \"credit_card\") & (payments[\"payment_sequential\"] > 1)] # -> cancelado \n",
    "# items[items[\"order_id\"] == \"332c6742772f2df936696b6512b10edb\"]\n",
    "# orders[payments[\"payment_type\"]] += payments[payments[\"payment_type\"]][\"payment_value\"]\n",
    "# cada pedido pode ter mais de um pagamento tando (debt_card, cred_card) e (voucher, cred_card)\n",
    "# products[products[\"product_id\"] == \"58f88ebb71c90b2d46a5b297ae6c3455\"]\n",
    "payments[payments[\"order_id\"] == \"332c6742772f2df936696b6512b10edb\"]\n",
    "\n",
    "\n"
   ]
  },
  {
   "cell_type": "code",
   "execution_count": 34,
   "id": "b6344da9",
   "metadata": {},
   "outputs": [
    {
     "data": {
      "text/plain": [
       "order_id                         object\n",
       "customer_id                      object\n",
       "order_status                     object\n",
       "order_purchase_timestamp         object\n",
       "order_approved_at                object\n",
       "order_delivered_carrier_date     object\n",
       "order_delivered_customer_date    object\n",
       "order_estimated_delivery_date    object\n",
       "dtype: object"
      ]
     },
     "execution_count": 34,
     "metadata": {},
     "output_type": "execute_result"
    }
   ],
   "source": [
    "orders.dtypes"
   ]
  },
  {
   "cell_type": "code",
   "execution_count": 35,
   "id": "a00c4215",
   "metadata": {},
   "outputs": [
    {
     "data": {
      "text/plain": [
       "order_id                               category\n",
       "customer_id                            category\n",
       "order_status                           category\n",
       "order_purchase_timestamp         datetime64[ns]\n",
       "order_approved_at                datetime64[ns]\n",
       "order_delivered_carrier_date     datetime64[ns]\n",
       "order_delivered_customer_date    datetime64[ns]\n",
       "order_estimated_delivery_date    datetime64[ns]\n",
       "dtype: object"
      ]
     },
     "execution_count": 35,
     "metadata": {},
     "output_type": "execute_result"
    }
   ],
   "source": [
    "orders[\"order_id\"] = orders[\"order_id\"].astype(\"category\")\n",
    "orders[\"customer_id\"] = orders[\"customer_id\"].astype(\"category\")\n",
    "orders[\"order_status\"] = orders[\"order_status\"].astype(\"category\")\n",
    "orders[\"order_purchase_timestamp\"] = pd.to_datetime(orders[\"order_purchase_timestamp\"], format=\"%Y/%m/%d %H:%M:%S\")\n",
    "orders[\"order_approved_at\"] = pd.to_datetime(orders[\"order_approved_at\"], format=\"%Y/%m/%d %H:%M:%S\")\n",
    "orders[\"order_delivered_carrier_date\"] = pd.to_datetime(orders[\"order_delivered_carrier_date\"], format=\"%Y/%m/%d %H:%M:%S\")\n",
    "orders[\"order_delivered_customer_date\"] = pd.to_datetime(orders[\"order_delivered_customer_date\"], format=\"%Y/%m/%d %H:%M:%S\")\n",
    "orders[\"order_estimated_delivery_date\"] = pd.to_datetime(orders[\"order_estimated_delivery_date\"], format=\"%Y/%m/%d %H:%M:%S\")\n",
    "orders.dtypes"
   ]
  },
  {
   "cell_type": "code",
   "execution_count": 36,
   "id": "086d3b90",
   "metadata": {},
   "outputs": [
    {
     "data": {
      "text/plain": [
       "Index(['* cidade', '...arraial do cabo', '4o. centenario', '4º centenario',\n",
       "       'abadia de goias', 'abadia dos dourados', 'abadiania', 'abadiânia',\n",
       "       'abaete', 'abaetetuba',\n",
       "       ...\n",
       "       'águas vermelhas', 'águia branca', 'álvares florence',\n",
       "       'álvares machado', 'álvaro de carvalho', 'áurea', 'ângulo',\n",
       "       'érico cardoso', 'óbidos', 'óleo'],\n",
       "      dtype='object', length=8011)"
      ]
     },
     "execution_count": 36,
     "metadata": {},
     "output_type": "execute_result"
    }
   ],
   "source": [
    "location[\"geolocation_city\"].cat.categories"
   ]
  },
  {
   "cell_type": "code",
   "execution_count": 37,
   "id": "6394ac25",
   "metadata": {},
   "outputs": [
    {
     "data": {
      "text/plain": [
       "Index(['boleto', 'credit_card', 'debit_card', 'not_defined', 'voucher'], dtype='object')"
      ]
     },
     "execution_count": 37,
     "metadata": {},
     "output_type": "execute_result"
    }
   ],
   "source": [
    "payments[\"payment_type\"].cat.categories"
   ]
  },
  {
   "cell_type": "code",
   "execution_count": 38,
   "id": "75195b31",
   "metadata": {},
   "outputs": [
    {
     "data": {
      "text/html": [
       "<div>\n",
       "<style scoped>\n",
       "    .dataframe tbody tr th:only-of-type {\n",
       "        vertical-align: middle;\n",
       "    }\n",
       "\n",
       "    .dataframe tbody tr th {\n",
       "        vertical-align: top;\n",
       "    }\n",
       "\n",
       "    .dataframe thead th {\n",
       "        text-align: right;\n",
       "    }\n",
       "</style>\n",
       "<table border=\"1\" class=\"dataframe\">\n",
       "  <thead>\n",
       "    <tr style=\"text-align: right;\">\n",
       "      <th></th>\n",
       "      <th>review_id</th>\n",
       "      <th>order_id</th>\n",
       "      <th>review_score</th>\n",
       "      <th>review_creation_date</th>\n",
       "      <th>review_answer_timestamp</th>\n",
       "    </tr>\n",
       "  </thead>\n",
       "  <tbody>\n",
       "    <tr>\n",
       "      <th>51963</th>\n",
       "      <td>97ca439bc427b48bc1cd7177abe71365</td>\n",
       "      <td>00010242fe8c5a6d1ba2dd792cb16214</td>\n",
       "      <td>5</td>\n",
       "      <td>2017-09-21</td>\n",
       "      <td>2017-09-22 10:57:03</td>\n",
       "    </tr>\n",
       "    <tr>\n",
       "      <th>27823</th>\n",
       "      <td>7b07bacd811c4117b742569b04ce3580</td>\n",
       "      <td>00018f77f2f0320c557190d7a144bdd3</td>\n",
       "      <td>4</td>\n",
       "      <td>2017-05-13</td>\n",
       "      <td>2017-05-15 11:34:13</td>\n",
       "    </tr>\n",
       "    <tr>\n",
       "      <th>4218</th>\n",
       "      <td>0c5b33dea94867d1ac402749e5438e8b</td>\n",
       "      <td>000229ec398224ef6ca0657da4fc703e</td>\n",
       "      <td>5</td>\n",
       "      <td>2018-01-23</td>\n",
       "      <td>2018-01-23 16:06:31</td>\n",
       "    </tr>\n",
       "    <tr>\n",
       "      <th>38844</th>\n",
       "      <td>f4028d019cb58564807486a6aaf33817</td>\n",
       "      <td>00024acbcdf0a6daa1e931b038114c75</td>\n",
       "      <td>4</td>\n",
       "      <td>2018-08-15</td>\n",
       "      <td>2018-08-15 16:39:01</td>\n",
       "    </tr>\n",
       "    <tr>\n",
       "      <th>55676</th>\n",
       "      <td>940144190dcba6351888cafa43f3a3a5</td>\n",
       "      <td>00042b26cf59d7ce69dfabb4e55b4fd9</td>\n",
       "      <td>5</td>\n",
       "      <td>2017-03-02</td>\n",
       "      <td>2017-03-03 10:54:59</td>\n",
       "    </tr>\n",
       "    <tr>\n",
       "      <th>...</th>\n",
       "      <td>...</td>\n",
       "      <td>...</td>\n",
       "      <td>...</td>\n",
       "      <td>...</td>\n",
       "      <td>...</td>\n",
       "    </tr>\n",
       "    <tr>\n",
       "      <th>48178</th>\n",
       "      <td>9185f849f32d82e216a4e025e0c50f5c</td>\n",
       "      <td>fffc94f6ce00a00581880bf54a75a037</td>\n",
       "      <td>5</td>\n",
       "      <td>2018-05-11</td>\n",
       "      <td>2018-05-14 12:53:47</td>\n",
       "    </tr>\n",
       "    <tr>\n",
       "      <th>21684</th>\n",
       "      <td>be803f6a93d64719fd685c1cc610918a</td>\n",
       "      <td>fffcd46ef2263f404302a634eb57f7eb</td>\n",
       "      <td>5</td>\n",
       "      <td>2018-07-24</td>\n",
       "      <td>2018-07-25 09:25:29</td>\n",
       "    </tr>\n",
       "    <tr>\n",
       "      <th>37509</th>\n",
       "      <td>dbdd81cd59a1a9f94a10a990b4d48dce</td>\n",
       "      <td>fffce4705a9662cd70adb13d4a31832d</td>\n",
       "      <td>5</td>\n",
       "      <td>2017-10-29</td>\n",
       "      <td>2017-10-29 21:33:52</td>\n",
       "    </tr>\n",
       "    <tr>\n",
       "      <th>50462</th>\n",
       "      <td>fba117c9ac40d41ca7be54741f471303</td>\n",
       "      <td>fffe18544ffabc95dfada21779c9644f</td>\n",
       "      <td>5</td>\n",
       "      <td>2017-08-17</td>\n",
       "      <td>2017-08-18 12:24:05</td>\n",
       "    </tr>\n",
       "    <tr>\n",
       "      <th>92457</th>\n",
       "      <td>b2700869a37f1aafc9dda829dc2f9027</td>\n",
       "      <td>fffe41c64501cc87c801fd61db3f6244</td>\n",
       "      <td>5</td>\n",
       "      <td>2018-06-15</td>\n",
       "      <td>2018-06-17 21:27:09</td>\n",
       "    </tr>\n",
       "  </tbody>\n",
       "</table>\n",
       "<p>98128 rows × 5 columns</p>\n",
       "</div>"
      ],
      "text/plain": [
       "                              review_id                          order_id  \\\n",
       "51963  97ca439bc427b48bc1cd7177abe71365  00010242fe8c5a6d1ba2dd792cb16214   \n",
       "27823  7b07bacd811c4117b742569b04ce3580  00018f77f2f0320c557190d7a144bdd3   \n",
       "4218   0c5b33dea94867d1ac402749e5438e8b  000229ec398224ef6ca0657da4fc703e   \n",
       "38844  f4028d019cb58564807486a6aaf33817  00024acbcdf0a6daa1e931b038114c75   \n",
       "55676  940144190dcba6351888cafa43f3a3a5  00042b26cf59d7ce69dfabb4e55b4fd9   \n",
       "...                                 ...                               ...   \n",
       "48178  9185f849f32d82e216a4e025e0c50f5c  fffc94f6ce00a00581880bf54a75a037   \n",
       "21684  be803f6a93d64719fd685c1cc610918a  fffcd46ef2263f404302a634eb57f7eb   \n",
       "37509  dbdd81cd59a1a9f94a10a990b4d48dce  fffce4705a9662cd70adb13d4a31832d   \n",
       "50462  fba117c9ac40d41ca7be54741f471303  fffe18544ffabc95dfada21779c9644f   \n",
       "92457  b2700869a37f1aafc9dda829dc2f9027  fffe41c64501cc87c801fd61db3f6244   \n",
       "\n",
       "       review_score review_creation_date review_answer_timestamp  \n",
       "51963             5           2017-09-21     2017-09-22 10:57:03  \n",
       "27823             4           2017-05-13     2017-05-15 11:34:13  \n",
       "4218              5           2018-01-23     2018-01-23 16:06:31  \n",
       "38844             4           2018-08-15     2018-08-15 16:39:01  \n",
       "55676             5           2017-03-02     2017-03-03 10:54:59  \n",
       "...             ...                  ...                     ...  \n",
       "48178             5           2018-05-11     2018-05-14 12:53:47  \n",
       "21684             5           2018-07-24     2018-07-25 09:25:29  \n",
       "37509             5           2017-10-29     2017-10-29 21:33:52  \n",
       "50462             5           2017-08-17     2017-08-18 12:24:05  \n",
       "92457             5           2018-06-15     2018-06-17 21:27:09  \n",
       "\n",
       "[98128 rows x 5 columns]"
      ]
     },
     "execution_count": 38,
     "metadata": {},
     "output_type": "execute_result"
    }
   ],
   "source": [
    "reviews"
   ]
  },
  {
   "cell_type": "markdown",
   "id": "15cd1fcc",
   "metadata": {},
   "source": [
    "## Discretizando dados categoricos"
   ]
  },
  {
   "cell_type": "code",
   "execution_count": 39,
   "id": "74a07fa3",
   "metadata": {},
   "outputs": [
    {
     "data": {
      "text/plain": [
       "product_id                    category\n",
       "product_category_name         category\n",
       "product_name_lenght            float64\n",
       "product_description_lenght     float64\n",
       "product_photos_qty             float64\n",
       "product_weight_g               float64\n",
       "product_length_cm              float64\n",
       "product_height_cm              float64\n",
       "product_width_cm               float64\n",
       "dtype: object"
      ]
     },
     "execution_count": 39,
     "metadata": {},
     "output_type": "execute_result"
    }
   ],
   "source": [
    "products.dtypes"
   ]
  },
  {
   "cell_type": "code",
   "execution_count": 40,
   "id": "cff756a5",
   "metadata": {},
   "outputs": [
    {
     "name": "stdout",
     "output_type": "stream",
     "text": [
      "order_id                               category\n",
      "payment_sequential                        int64\n",
      "payment_type                           category\n",
      "payment_installments                      int64\n",
      "payment_value                           float64\n",
      "customer_id                            category\n",
      "order_status                           category\n",
      "order_purchase_timestamp         datetime64[ns]\n",
      "order_approved_at                datetime64[ns]\n",
      "order_delivered_carrier_date     datetime64[ns]\n",
      "order_delivered_customer_date    datetime64[ns]\n",
      "order_estimated_delivery_date    datetime64[ns]\n",
      "order_item_id                             int64\n",
      "product_id                             category\n",
      "seller_id                              category\n",
      "shipping_limit_date              datetime64[ns]\n",
      "price                                   float64\n",
      "freight_value                           float64\n",
      "review_id                              category\n",
      "review_score                              int64\n",
      "review_creation_date             datetime64[ns]\n",
      "review_answer_timestamp          datetime64[ns]\n",
      "product_category_name                  category\n",
      "product_name_lenght                     float64\n",
      "product_description_lenght              float64\n",
      "product_photos_qty                      float64\n",
      "product_weight_g                        float64\n",
      "product_length_cm                       float64\n",
      "product_height_cm                       float64\n",
      "product_width_cm                        float64\n",
      "seller_zip_code_prefix                    int64\n",
      "seller_city                            category\n",
      "seller_state                           category\n",
      "customer_unique_id                     category\n",
      "customer_zip_code_prefix                  int64\n",
      "customer_city                          category\n",
      "customer_state                         category\n",
      "dtype: object\n"
     ]
    }
   ],
   "source": [
    "new_orders = pd.merge(payments, orders, how=\"inner\", on = \"order_id\")\n",
    "items_orders = pd.merge(new_orders, items, how=\"inner\", on = \"order_id\")\n",
    "reviews_orders = pd.merge(items_orders, reviews, how=\"inner\", on = \"order_id\")\n",
    "products_orders = pd.merge(reviews_orders, products, how=\"inner\", on = \"product_id\")\n",
    "\n",
    "seller_orders = pd.merge(products_orders, sellers, how=\"inner\", on = \"seller_id\")\n",
    "customers_orders = pd.merge(seller_orders, customers, how=\"inner\", on = \"customer_id\")\n",
    "customers_orders[\"order_id\"] = customers_orders[\"order_id\"].astype(\"category\")\n",
    "# customers[\"customer_id\"] = customers[\"customer_unique_id\"] \n",
    "\n",
    "print(customers_orders.dtypes)"
   ]
  },
  {
   "cell_type": "code",
   "execution_count": 41,
   "id": "90ee8616",
   "metadata": {},
   "outputs": [
    {
     "data": {
      "text/plain": [
       "(97328, 37)"
      ]
     },
     "execution_count": 41,
     "metadata": {},
     "output_type": "execute_result"
    }
   ],
   "source": [
    "customers_orders.shape"
   ]
  },
  {
   "cell_type": "code",
   "execution_count": 42,
   "id": "13cf8417",
   "metadata": {},
   "outputs": [
    {
     "data": {
      "text/plain": [
       "0        7 days 02:16:51\n",
       "1        3 days 00:12:44\n",
       "2       15 days 08:07:42\n",
       "3       25 days 02:51:00\n",
       "4        2 days 04:52:43\n",
       "              ...       \n",
       "97323    8 days 05:24:06\n",
       "97324   18 days 05:49:44\n",
       "97325    3 days 06:59:55\n",
       "97326                NaT\n",
       "97327    3 days 05:50:01\n",
       "Name: delivery_days, Length: 97328, dtype: timedelta64[ns]"
      ]
     },
     "execution_count": 42,
     "metadata": {},
     "output_type": "execute_result"
    }
   ],
   "source": [
    "customers_orders[\"delivery_days\"] = (customers_orders[\"order_delivered_customer_date\"]-customers_orders[\"order_delivered_carrier_date\"])\n",
    "customers_orders[\"delivery_days\"]"
   ]
  },
  {
   "cell_type": "code",
   "execution_count": 43,
   "id": "46450483",
   "metadata": {},
   "outputs": [
    {
     "name": "stderr",
     "output_type": "stream",
     "text": [
      "C:\\Users\\caioc\\AppData\\Local\\Temp/ipykernel_6648/725775023.py:5: SettingWithCopyWarning: \n",
      "A value is trying to be set on a copy of a slice from a DataFrame\n",
      "\n",
      "See the caveats in the documentation: https://pandas.pydata.org/pandas-docs/stable/user_guide/indexing.html#returning-a-view-versus-a-copy\n",
      "  customers_orders[\"delivery_days\"][i] = int(str(customers_orders[\"delivery_days\"][i])[0:2])\n",
      "C:\\Users\\caioc\\AppData\\Local\\Temp/ipykernel_6648/725775023.py:3: SettingWithCopyWarning: \n",
      "A value is trying to be set on a copy of a slice from a DataFrame\n",
      "\n",
      "See the caveats in the documentation: https://pandas.pydata.org/pandas-docs/stable/user_guide/indexing.html#returning-a-view-versus-a-copy\n",
      "  customers_orders[\"delivery_days\"][i] = 0\n"
     ]
    },
    {
     "name": "stdout",
     "output_type": "stream",
     "text": [
      "Feito\n"
     ]
    }
   ],
   "source": [
    "for i in range(len(customers_orders[\"delivery_days\"])):\n",
    "    if str(customers_orders[\"delivery_days\"][i])[0:2] == \"Na\":\n",
    "        customers_orders[\"delivery_days\"][i] = 0\n",
    "    else:\n",
    "        customers_orders[\"delivery_days\"][i] = int(str(customers_orders[\"delivery_days\"][i])[0:2])\n",
    "print(\"Feito\")"
   ]
  },
  {
   "cell_type": "code",
   "execution_count": 45,
   "id": "1f25120a",
   "metadata": {},
   "outputs": [
    {
     "data": {
      "text/plain": [
       "0     7\n",
       "1     3\n",
       "2    15\n",
       "3    25\n",
       "4     2\n",
       "Name: delivery_days, dtype: object"
      ]
     },
     "execution_count": 45,
     "metadata": {},
     "output_type": "execute_result"
    }
   ],
   "source": [
    "customers_orders[\"delivery_days\"].head()"
   ]
  },
  {
   "cell_type": "code",
   "execution_count": 44,
   "id": "c55c1f77",
   "metadata": {},
   "outputs": [
    {
     "name": "stderr",
     "output_type": "stream",
     "text": [
      "C:\\Users\\caioc\\AppData\\Local\\Temp/ipykernel_6648/1409488443.py:4: SettingWithCopyWarning: \n",
      "A value is trying to be set on a copy of a slice from a DataFrame\n",
      "\n",
      "See the caveats in the documentation: https://pandas.pydata.org/pandas-docs/stable/user_guide/indexing.html#returning-a-view-versus-a-copy\n",
      "  customers_orders[\"days_late\"][i] = int(str(customers_orders[\"days_late\"][i])[0:3])\n",
      "C:\\Users\\caioc\\AppData\\Local\\Temp/ipykernel_6648/1409488443.py:8: SettingWithCopyWarning: \n",
      "A value is trying to be set on a copy of a slice from a DataFrame\n",
      "\n",
      "See the caveats in the documentation: https://pandas.pydata.org/pandas-docs/stable/user_guide/indexing.html#returning-a-view-versus-a-copy\n",
      "  customers_orders[\"days_late\"][i] = int(str(customers_orders[\"days_late\"][i])[0:2])\n",
      "C:\\Users\\caioc\\AppData\\Local\\Temp/ipykernel_6648/1409488443.py:6: SettingWithCopyWarning: \n",
      "A value is trying to be set on a copy of a slice from a DataFrame\n",
      "\n",
      "See the caveats in the documentation: https://pandas.pydata.org/pandas-docs/stable/user_guide/indexing.html#returning-a-view-versus-a-copy\n",
      "  customers_orders[\"days_late\"][i] = 0\n"
     ]
    },
    {
     "name": "stdout",
     "output_type": "stream",
     "text": [
      "Feito\n"
     ]
    }
   ],
   "source": [
    "customers_orders[\"days_late\"] = (customers_orders[\"order_delivered_customer_date\"]-customers_orders[\"order_estimated_delivery_date\"])\n",
    "for i in range(len(customers_orders[\"days_late\"])):\n",
    "    if str(customers_orders[\"days_late\"][i])[0] == \"-\": \n",
    "        customers_orders[\"days_late\"][i] = int(str(customers_orders[\"days_late\"][i])[0:3])\n",
    "    elif str(customers_orders[\"days_late\"][i])[0:2] == \"Na\":\n",
    "        customers_orders[\"days_late\"][i] = 0\n",
    "    else:\n",
    "        customers_orders[\"days_late\"][i] = int(str(customers_orders[\"days_late\"][i])[0:2])\n",
    "customers_orders[\"days_late\"].head(50)\n",
    "print(\"Feito\")"
   ]
  },
  {
   "cell_type": "code",
   "execution_count": 46,
   "id": "bd4c9fc8",
   "metadata": {},
   "outputs": [
    {
     "data": {
      "text/plain": [
       "0    -13\n",
       "1    -19\n",
       "2    -23\n",
       "3     -8\n",
       "4    -12\n",
       "Name: days_late, dtype: object"
      ]
     },
     "execution_count": 46,
     "metadata": {},
     "output_type": "execute_result"
    }
   ],
   "source": [
    "customers_orders[\"days_late\"].head()"
   ]
  },
  {
   "cell_type": "code",
   "execution_count": 47,
   "id": "2a09253f",
   "metadata": {},
   "outputs": [
    {
     "data": {
      "text/plain": [
       "0       19 days 08:40:00\n",
       "1       22 days 00:05:05\n",
       "2       37 days 08:58:00\n",
       "3       32 days 08:47:00\n",
       "4       13 days 08:59:00\n",
       "              ...       \n",
       "97323   20 days 06:27:00\n",
       "97324   21 days 07:23:14\n",
       "97325   12 days 11:55:00\n",
       "97326                NaT\n",
       "97327   18 days 15:14:46\n",
       "Name: estimated_days, Length: 97328, dtype: timedelta64[ns]"
      ]
     },
     "execution_count": 47,
     "metadata": {},
     "output_type": "execute_result"
    }
   ],
   "source": [
    "customers_orders[\"estimated_days\"] = (customers_orders[\"order_estimated_delivery_date\"]-customers_orders[\"order_delivered_carrier_date\"])\n",
    "customers_orders[\"estimated_days\"]"
   ]
  },
  {
   "cell_type": "code",
   "execution_count": 48,
   "id": "cd01a6d0",
   "metadata": {},
   "outputs": [
    {
     "name": "stderr",
     "output_type": "stream",
     "text": [
      "C:\\Users\\caioc\\AppData\\Local\\Temp/ipykernel_6648/3024300869.py:5: SettingWithCopyWarning: \n",
      "A value is trying to be set on a copy of a slice from a DataFrame\n",
      "\n",
      "See the caveats in the documentation: https://pandas.pydata.org/pandas-docs/stable/user_guide/indexing.html#returning-a-view-versus-a-copy\n",
      "  customers_orders[\"estimated_days\"][i] = int(str(customers_orders[\"estimated_days\"][i])[0:2])\n",
      "C:\\Users\\caioc\\AppData\\Local\\Temp/ipykernel_6648/3024300869.py:3: SettingWithCopyWarning: \n",
      "A value is trying to be set on a copy of a slice from a DataFrame\n",
      "\n",
      "See the caveats in the documentation: https://pandas.pydata.org/pandas-docs/stable/user_guide/indexing.html#returning-a-view-versus-a-copy\n",
      "  customers_orders[\"estimated_days\"][i] = 0\n"
     ]
    },
    {
     "name": "stdout",
     "output_type": "stream",
     "text": [
      "Feito\n"
     ]
    }
   ],
   "source": [
    "for i in range(len(customers_orders[\"estimated_days\"])):\n",
    "    if str(customers_orders[\"estimated_days\"][i])[0:2] == \"Na\":\n",
    "        customers_orders[\"estimated_days\"][i] = 0\n",
    "    else:\n",
    "        customers_orders[\"estimated_days\"][i] = int(str(customers_orders[\"estimated_days\"][i])[0:2])\n",
    "print(\"Feito\")"
   ]
  },
  {
   "cell_type": "code",
   "execution_count": 49,
   "id": "ef29cad4",
   "metadata": {},
   "outputs": [
    {
     "data": {
      "text/plain": [
       "0       -1 days +17:04:51\n",
       "1       -3 days +00:44:53\n",
       "2       -6 days +02:50:33\n",
       "3       -3 days +03:22:44\n",
       "4         0 days 20:10:53\n",
       "               ...       \n",
       "97323   -3 days +04:02:22\n",
       "97324   -6 days +13:05:21\n",
       "97325   -5 days +07:29:40\n",
       "97326                 NaT\n",
       "97327     0 days 11:07:15\n",
       "Name: shipment_delay, Length: 97328, dtype: timedelta64[ns]"
      ]
     },
     "execution_count": 49,
     "metadata": {},
     "output_type": "execute_result"
    }
   ],
   "source": [
    "customers_orders[\"shipment_delay\"] = customers_orders[\"order_delivered_carrier_date\"] - customers_orders[\"shipping_limit_date\"]\n",
    "customers_orders[\"shipment_delay\"]"
   ]
  },
  {
   "cell_type": "code",
   "execution_count": 50,
   "id": "02d22049",
   "metadata": {},
   "outputs": [
    {
     "name": "stderr",
     "output_type": "stream",
     "text": [
      "C:\\Users\\caioc\\AppData\\Local\\Temp/ipykernel_6648/2975122590.py:3: SettingWithCopyWarning: \n",
      "A value is trying to be set on a copy of a slice from a DataFrame\n",
      "\n",
      "See the caveats in the documentation: https://pandas.pydata.org/pandas-docs/stable/user_guide/indexing.html#returning-a-view-versus-a-copy\n",
      "  customers_orders[\"shipment_delay\"][i] = int(str(customers_orders[\"shipment_delay\"][i])[0:3])\n",
      "C:\\Users\\caioc\\AppData\\Local\\Temp/ipykernel_6648/2975122590.py:7: SettingWithCopyWarning: \n",
      "A value is trying to be set on a copy of a slice from a DataFrame\n",
      "\n",
      "See the caveats in the documentation: https://pandas.pydata.org/pandas-docs/stable/user_guide/indexing.html#returning-a-view-versus-a-copy\n",
      "  customers_orders[\"shipment_delay\"][i] = int(str(customers_orders[\"shipment_delay\"][i])[0:2])\n",
      "C:\\Users\\caioc\\AppData\\Local\\Temp/ipykernel_6648/2975122590.py:5: SettingWithCopyWarning: \n",
      "A value is trying to be set on a copy of a slice from a DataFrame\n",
      "\n",
      "See the caveats in the documentation: https://pandas.pydata.org/pandas-docs/stable/user_guide/indexing.html#returning-a-view-versus-a-copy\n",
      "  customers_orders[\"shipment_delay\"][i] = 0\n"
     ]
    },
    {
     "name": "stdout",
     "output_type": "stream",
     "text": [
      "Feito\n"
     ]
    }
   ],
   "source": [
    "for i in range(len(customers_orders[\"shipment_delay\"])):\n",
    "    if str(customers_orders[\"shipment_delay\"][i])[0] == \"-\": \n",
    "        customers_orders[\"shipment_delay\"][i] = int(str(customers_orders[\"shipment_delay\"][i])[0:3])\n",
    "    elif str(customers_orders[\"shipment_delay\"][i])[0:2] == \"Na\":\n",
    "        customers_orders[\"shipment_delay\"][i] = 0\n",
    "    else:\n",
    "        customers_orders[\"shipment_delay\"][i] = int(str(customers_orders[\"shipment_delay\"][i])[0:2])\n",
    "customers_orders[\"shipment_delay\"].head(50)\n",
    "print(\"Feito\")"
   ]
  },
  {
   "cell_type": "code",
   "execution_count": 51,
   "id": "8fd534ca",
   "metadata": {},
   "outputs": [],
   "source": [
    "customers_orders[\"days_late\"] = customers_orders[\"days_late\"].astype(\"int64\")\n",
    "customers_orders[\"delivery_days\"] = customers_orders[\"delivery_days\"].astype(\"int64\")\n",
    "customers_orders[\"estimated_days\"] = customers_orders[\"estimated_days\"].astype(\"int64\")\n",
    "customers_orders[\"shipment_delay\"] = customers_orders[\"shipment_delay\"].astype(\"int64\")"
   ]
  },
  {
   "cell_type": "code",
   "execution_count": 52,
   "id": "02f496f2",
   "metadata": {},
   "outputs": [
    {
     "data": {
      "text/plain": [
       "0     7\n",
       "1     3\n",
       "2    15\n",
       "3    25\n",
       "4     2\n",
       "Name: delivery_days, dtype: int64"
      ]
     },
     "execution_count": 52,
     "metadata": {},
     "output_type": "execute_result"
    }
   ],
   "source": [
    "customers_orders[\"delivery_days\"].head()"
   ]
  },
  {
   "cell_type": "code",
   "execution_count": 53,
   "id": "e2621aef",
   "metadata": {},
   "outputs": [
    {
     "name": "stderr",
     "output_type": "stream",
     "text": [
      "C:\\Users\\caioc\\AppData\\Local\\Temp/ipykernel_6648/244686767.py:9: SettingWithCopyWarning: \n",
      "A value is trying to be set on a copy of a slice from a DataFrame\n",
      "\n",
      "See the caveats in the documentation: https://pandas.pydata.org/pandas-docs/stable/user_guide/indexing.html#returning-a-view-versus-a-copy\n",
      "  customers_orders[\"islate\"][i] = 0\n",
      "C:\\Users\\caioc\\Anaconda3\\envs\\rv\\lib\\site-packages\\pandas\\core\\indexing.py:1732: SettingWithCopyWarning: \n",
      "A value is trying to be set on a copy of a slice from a DataFrame\n",
      "\n",
      "See the caveats in the documentation: https://pandas.pydata.org/pandas-docs/stable/user_guide/indexing.html#returning-a-view-versus-a-copy\n",
      "  self._setitem_single_block(indexer, value, name)\n"
     ]
    },
    {
     "name": "stdout",
     "output_type": "stream",
     "text": [
      "0.06512000657570279\n"
     ]
    }
   ],
   "source": [
    "filter_islate = customers_orders[\"days_late\"] > 0\n",
    "customers_orders[\"islate\"] = filter_islate\n",
    "prop = 0\n",
    "for i in range(len(customers_orders[\"islate\"])):\n",
    "    if customers_orders[\"islate\"][i] == True:\n",
    "        customers_orders[\"islate\"][i] = 1\n",
    "        prop+=1\n",
    "    else:\n",
    "        customers_orders[\"islate\"][i] = 0\n",
    "print(prop/len(customers_orders))"
   ]
  },
  {
   "cell_type": "code",
   "execution_count": 54,
   "id": "b2466f7d",
   "metadata": {},
   "outputs": [
    {
     "data": {
      "text/plain": [
       "customer_state  islate\n",
       "AC              0            77\n",
       "                1             3\n",
       "AL              0           325\n",
       "                1            82\n",
       "AM              0           140\n",
       "                1             4\n",
       "AP              0            65\n",
       "                1             2\n",
       "BA              0          2919\n",
       "                1           382\n",
       "CE              0          1138\n",
       "                1           174\n",
       "DF              0          1986\n",
       "                1           116\n",
       "ES              0          1786\n",
       "                1           204\n",
       "GO              0          1858\n",
       "                1           124\n",
       "MA              0           604\n",
       "                1           122\n",
       "MG              0         10893\n",
       "                1           504\n",
       "MS              0           634\n",
       "                1            68\n",
       "MT              0           841\n",
       "                1            51\n",
       "PA              0           848\n",
       "                1            98\n",
       "PB              0           472\n",
       "                1            52\n",
       "PE              0          1475\n",
       "                1           149\n",
       "PI              0           416\n",
       "                1            64\n",
       "PR              0          4753\n",
       "                1           191\n",
       "RJ              0         11064\n",
       "                1          1441\n",
       "RN              0           433\n",
       "                1            43\n",
       "RO              0           236\n",
       "                1             7\n",
       "RR              0            41\n",
       "                1             5\n",
       "RS              0          5059\n",
       "                1           319\n",
       "SC              0          3284\n",
       "                1           281\n",
       "SE              0           291\n",
       "                1            50\n",
       "SP              0         39103\n",
       "                1          1776\n",
       "TO              0           249\n",
       "                1            26\n",
       "Name: islate, dtype: int64"
      ]
     },
     "execution_count": 54,
     "metadata": {},
     "output_type": "execute_result"
    }
   ],
   "source": [
    "group = customers_orders.groupby(\"customer_state\")\n",
    "group[\"islate\"].value_counts()"
   ]
  },
  {
   "cell_type": "code",
   "execution_count": 55,
   "id": "8dc310ea",
   "metadata": {},
   "outputs": [
    {
     "data": {
      "text/plain": [
       "['AC', 'AL', 'AM', 'AP', 'BA', ..., 'RS', 'SC', 'SE', 'SP', 'TO']\n",
       "Length: 27\n",
       "Categories (27, object): ['AC', 'AL', 'AM', 'AP', ..., 'SC', 'SE', 'SP', 'TO']"
      ]
     },
     "execution_count": 55,
     "metadata": {},
     "output_type": "execute_result"
    }
   ],
   "source": [
    "estados = customers_orders[\"customer_state\"].unique().sort_values()\n",
    "estados"
   ]
  },
  {
   "cell_type": "code",
   "execution_count": 56,
   "id": "34847f41",
   "metadata": {},
   "outputs": [
    {
     "data": {
      "text/plain": [
       "27"
      ]
     },
     "execution_count": 56,
     "metadata": {},
     "output_type": "execute_result"
    }
   ],
   "source": [
    "#group2 = location.groupby(\"geolocation_state\")\n",
    "#group2[\"geolocation_lat\"].value_counts()\n",
    "lat = [-8.77,-9.71,-3.07,1.41,-12.96,-3.71,-15.83,-19.19, -16.64,  -2.55, -12.64, -20.51,-18.10,  -5.53,  -7.06, -24.89,-8.28,-8.28, -22.84,-5.22, -11.22, -30.01, 1.89, -27.33, -10.90, -23.55, -10.25]\n",
    "len(lat)"
   ]
  },
  {
   "cell_type": "code",
   "execution_count": 57,
   "id": "98d05e49",
   "metadata": {},
   "outputs": [],
   "source": [
    "lgt =[-70.55, -35.73, -61.66 -51.77 -38.51, -38.54, -47.86, -40.34, -49.31, -44.30, -55.42, -54.54, -44.38, -52.29, -35.55, -51.55, -43.68, -43.15, -36.52 -62.80, -51.22, -61.22, -49.44, -37.07, -46.64, -48.25]\n"
   ]
  },
  {
   "cell_type": "code",
   "execution_count": 58,
   "id": "84e85fe2",
   "metadata": {},
   "outputs": [
    {
     "data": {
      "text/plain": [
       "27"
      ]
     },
     "execution_count": 58,
     "metadata": {},
     "output_type": "execute_result"
    }
   ],
   "source": [
    "lgt = [-70.55, -35.73, -61.66, -51.77, -38.51, -38.54, -47.86, -40.34, -49.31, -44.30, -55.42, -54.54, -44.38, -52.29, -35.55, -51.55, -35.07, -43.68, -43.15, -36.52, -62.80, -51.22, -61.22, -49.44, -37.07, -46.64, -48.25]\n",
    "len(lgt)"
   ]
  },
  {
   "cell_type": "code",
   "execution_count": 59,
   "id": "1aec5891",
   "metadata": {},
   "outputs": [],
   "source": [
    "total = []\n",
    "atraso = []\n",
    "sem_atraso = []\n",
    "for i in range (27):\n",
    "    total.append(group[\"islate\"].value_counts()[2*i] + group[\"islate\"].value_counts()[2*i+1])\n",
    "    atraso.append(group[\"islate\"].value_counts()[2*i+1])\n",
    "    sem_atraso.append(group[\"islate\"].value_counts()[2*i])"
   ]
  },
  {
   "cell_type": "code",
   "execution_count": 60,
   "id": "cc76b9e7",
   "metadata": {},
   "outputs": [],
   "source": [
    "#percentual = []\n",
    "#[percentual.append(atraso[i]/total[i]) for i in range (len(total))]\n",
    "#len(percentual)"
   ]
  },
  {
   "cell_type": "code",
   "execution_count": 61,
   "id": "58671781",
   "metadata": {},
   "outputs": [
    {
     "data": {
      "text/html": [
       "<div>\n",
       "<style scoped>\n",
       "    .dataframe tbody tr th:only-of-type {\n",
       "        vertical-align: middle;\n",
       "    }\n",
       "\n",
       "    .dataframe tbody tr th {\n",
       "        vertical-align: top;\n",
       "    }\n",
       "\n",
       "    .dataframe thead th {\n",
       "        text-align: right;\n",
       "    }\n",
       "</style>\n",
       "<table border=\"1\" class=\"dataframe\">\n",
       "  <thead>\n",
       "    <tr style=\"text-align: right;\">\n",
       "      <th></th>\n",
       "      <th>states</th>\n",
       "      <th>late</th>\n",
       "      <th>no_late</th>\n",
       "      <th>total</th>\n",
       "      <th>latitude</th>\n",
       "      <th>longitude</th>\n",
       "    </tr>\n",
       "  </thead>\n",
       "  <tbody>\n",
       "    <tr>\n",
       "      <th>0</th>\n",
       "      <td>AC</td>\n",
       "      <td>3</td>\n",
       "      <td>77</td>\n",
       "      <td>80</td>\n",
       "      <td>-8.77</td>\n",
       "      <td>-70.55</td>\n",
       "    </tr>\n",
       "    <tr>\n",
       "      <th>1</th>\n",
       "      <td>AL</td>\n",
       "      <td>82</td>\n",
       "      <td>325</td>\n",
       "      <td>407</td>\n",
       "      <td>-9.71</td>\n",
       "      <td>-35.73</td>\n",
       "    </tr>\n",
       "    <tr>\n",
       "      <th>2</th>\n",
       "      <td>AM</td>\n",
       "      <td>4</td>\n",
       "      <td>140</td>\n",
       "      <td>144</td>\n",
       "      <td>-3.07</td>\n",
       "      <td>-61.66</td>\n",
       "    </tr>\n",
       "    <tr>\n",
       "      <th>3</th>\n",
       "      <td>AP</td>\n",
       "      <td>2</td>\n",
       "      <td>65</td>\n",
       "      <td>67</td>\n",
       "      <td>1.41</td>\n",
       "      <td>-51.77</td>\n",
       "    </tr>\n",
       "    <tr>\n",
       "      <th>4</th>\n",
       "      <td>BA</td>\n",
       "      <td>382</td>\n",
       "      <td>2919</td>\n",
       "      <td>3301</td>\n",
       "      <td>-12.96</td>\n",
       "      <td>-38.51</td>\n",
       "    </tr>\n",
       "    <tr>\n",
       "      <th>5</th>\n",
       "      <td>CE</td>\n",
       "      <td>174</td>\n",
       "      <td>1138</td>\n",
       "      <td>1312</td>\n",
       "      <td>-3.71</td>\n",
       "      <td>-38.54</td>\n",
       "    </tr>\n",
       "    <tr>\n",
       "      <th>6</th>\n",
       "      <td>DF</td>\n",
       "      <td>116</td>\n",
       "      <td>1986</td>\n",
       "      <td>2102</td>\n",
       "      <td>-15.83</td>\n",
       "      <td>-47.86</td>\n",
       "    </tr>\n",
       "    <tr>\n",
       "      <th>7</th>\n",
       "      <td>ES</td>\n",
       "      <td>204</td>\n",
       "      <td>1786</td>\n",
       "      <td>1990</td>\n",
       "      <td>-19.19</td>\n",
       "      <td>-40.34</td>\n",
       "    </tr>\n",
       "    <tr>\n",
       "      <th>8</th>\n",
       "      <td>GO</td>\n",
       "      <td>124</td>\n",
       "      <td>1858</td>\n",
       "      <td>1982</td>\n",
       "      <td>-16.64</td>\n",
       "      <td>-49.31</td>\n",
       "    </tr>\n",
       "    <tr>\n",
       "      <th>9</th>\n",
       "      <td>MA</td>\n",
       "      <td>122</td>\n",
       "      <td>604</td>\n",
       "      <td>726</td>\n",
       "      <td>-2.55</td>\n",
       "      <td>-44.30</td>\n",
       "    </tr>\n",
       "    <tr>\n",
       "      <th>10</th>\n",
       "      <td>MG</td>\n",
       "      <td>504</td>\n",
       "      <td>10893</td>\n",
       "      <td>11397</td>\n",
       "      <td>-12.64</td>\n",
       "      <td>-55.42</td>\n",
       "    </tr>\n",
       "    <tr>\n",
       "      <th>11</th>\n",
       "      <td>MS</td>\n",
       "      <td>68</td>\n",
       "      <td>634</td>\n",
       "      <td>702</td>\n",
       "      <td>-20.51</td>\n",
       "      <td>-54.54</td>\n",
       "    </tr>\n",
       "    <tr>\n",
       "      <th>12</th>\n",
       "      <td>MT</td>\n",
       "      <td>51</td>\n",
       "      <td>841</td>\n",
       "      <td>892</td>\n",
       "      <td>-18.10</td>\n",
       "      <td>-44.38</td>\n",
       "    </tr>\n",
       "    <tr>\n",
       "      <th>13</th>\n",
       "      <td>PA</td>\n",
       "      <td>98</td>\n",
       "      <td>848</td>\n",
       "      <td>946</td>\n",
       "      <td>-5.53</td>\n",
       "      <td>-52.29</td>\n",
       "    </tr>\n",
       "    <tr>\n",
       "      <th>14</th>\n",
       "      <td>PB</td>\n",
       "      <td>52</td>\n",
       "      <td>472</td>\n",
       "      <td>524</td>\n",
       "      <td>-7.06</td>\n",
       "      <td>-35.55</td>\n",
       "    </tr>\n",
       "    <tr>\n",
       "      <th>15</th>\n",
       "      <td>PE</td>\n",
       "      <td>149</td>\n",
       "      <td>1475</td>\n",
       "      <td>1624</td>\n",
       "      <td>-24.89</td>\n",
       "      <td>-51.55</td>\n",
       "    </tr>\n",
       "    <tr>\n",
       "      <th>16</th>\n",
       "      <td>PI</td>\n",
       "      <td>64</td>\n",
       "      <td>416</td>\n",
       "      <td>480</td>\n",
       "      <td>-8.28</td>\n",
       "      <td>-35.07</td>\n",
       "    </tr>\n",
       "    <tr>\n",
       "      <th>17</th>\n",
       "      <td>PR</td>\n",
       "      <td>191</td>\n",
       "      <td>4753</td>\n",
       "      <td>4944</td>\n",
       "      <td>-8.28</td>\n",
       "      <td>-43.68</td>\n",
       "    </tr>\n",
       "    <tr>\n",
       "      <th>18</th>\n",
       "      <td>RJ</td>\n",
       "      <td>1441</td>\n",
       "      <td>11064</td>\n",
       "      <td>12505</td>\n",
       "      <td>-22.84</td>\n",
       "      <td>-43.15</td>\n",
       "    </tr>\n",
       "    <tr>\n",
       "      <th>19</th>\n",
       "      <td>RN</td>\n",
       "      <td>43</td>\n",
       "      <td>433</td>\n",
       "      <td>476</td>\n",
       "      <td>-5.22</td>\n",
       "      <td>-36.52</td>\n",
       "    </tr>\n",
       "    <tr>\n",
       "      <th>20</th>\n",
       "      <td>RO</td>\n",
       "      <td>7</td>\n",
       "      <td>236</td>\n",
       "      <td>243</td>\n",
       "      <td>-11.22</td>\n",
       "      <td>-62.80</td>\n",
       "    </tr>\n",
       "    <tr>\n",
       "      <th>21</th>\n",
       "      <td>RR</td>\n",
       "      <td>5</td>\n",
       "      <td>41</td>\n",
       "      <td>46</td>\n",
       "      <td>-30.01</td>\n",
       "      <td>-51.22</td>\n",
       "    </tr>\n",
       "    <tr>\n",
       "      <th>22</th>\n",
       "      <td>RS</td>\n",
       "      <td>319</td>\n",
       "      <td>5059</td>\n",
       "      <td>5378</td>\n",
       "      <td>1.89</td>\n",
       "      <td>-61.22</td>\n",
       "    </tr>\n",
       "    <tr>\n",
       "      <th>23</th>\n",
       "      <td>SC</td>\n",
       "      <td>281</td>\n",
       "      <td>3284</td>\n",
       "      <td>3565</td>\n",
       "      <td>-27.33</td>\n",
       "      <td>-49.44</td>\n",
       "    </tr>\n",
       "    <tr>\n",
       "      <th>24</th>\n",
       "      <td>SE</td>\n",
       "      <td>50</td>\n",
       "      <td>291</td>\n",
       "      <td>341</td>\n",
       "      <td>-10.90</td>\n",
       "      <td>-37.07</td>\n",
       "    </tr>\n",
       "    <tr>\n",
       "      <th>25</th>\n",
       "      <td>SP</td>\n",
       "      <td>1776</td>\n",
       "      <td>39103</td>\n",
       "      <td>40879</td>\n",
       "      <td>-23.55</td>\n",
       "      <td>-46.64</td>\n",
       "    </tr>\n",
       "    <tr>\n",
       "      <th>26</th>\n",
       "      <td>TO</td>\n",
       "      <td>26</td>\n",
       "      <td>249</td>\n",
       "      <td>275</td>\n",
       "      <td>-10.25</td>\n",
       "      <td>-48.25</td>\n",
       "    </tr>\n",
       "  </tbody>\n",
       "</table>\n",
       "</div>"
      ],
      "text/plain": [
       "   states  late  no_late  total  latitude  longitude\n",
       "0      AC     3       77     80     -8.77     -70.55\n",
       "1      AL    82      325    407     -9.71     -35.73\n",
       "2      AM     4      140    144     -3.07     -61.66\n",
       "3      AP     2       65     67      1.41     -51.77\n",
       "4      BA   382     2919   3301    -12.96     -38.51\n",
       "5      CE   174     1138   1312     -3.71     -38.54\n",
       "6      DF   116     1986   2102    -15.83     -47.86\n",
       "7      ES   204     1786   1990    -19.19     -40.34\n",
       "8      GO   124     1858   1982    -16.64     -49.31\n",
       "9      MA   122      604    726     -2.55     -44.30\n",
       "10     MG   504    10893  11397    -12.64     -55.42\n",
       "11     MS    68      634    702    -20.51     -54.54\n",
       "12     MT    51      841    892    -18.10     -44.38\n",
       "13     PA    98      848    946     -5.53     -52.29\n",
       "14     PB    52      472    524     -7.06     -35.55\n",
       "15     PE   149     1475   1624    -24.89     -51.55\n",
       "16     PI    64      416    480     -8.28     -35.07\n",
       "17     PR   191     4753   4944     -8.28     -43.68\n",
       "18     RJ  1441    11064  12505    -22.84     -43.15\n",
       "19     RN    43      433    476     -5.22     -36.52\n",
       "20     RO     7      236    243    -11.22     -62.80\n",
       "21     RR     5       41     46    -30.01     -51.22\n",
       "22     RS   319     5059   5378      1.89     -61.22\n",
       "23     SC   281     3284   3565    -27.33     -49.44\n",
       "24     SE    50      291    341    -10.90     -37.07\n",
       "25     SP  1776    39103  40879    -23.55     -46.64\n",
       "26     TO    26      249    275    -10.25     -48.25"
      ]
     },
     "execution_count": 61,
     "metadata": {},
     "output_type": "execute_result"
    }
   ],
   "source": [
    "#d1 = {'col1': [1, 2], 'col2': [3, 4]}\n",
    "d1 = {\"states\":estados,\"late\":atraso,\"no_late\":sem_atraso,\"total\":total,\"latitude\":lat,\"longitude\":lgt}\n",
    "dataf = pd.DataFrame(data=d1)\n",
    "dataf"
   ]
  },
  {
   "cell_type": "code",
   "execution_count": 62,
   "id": "b5c4e094",
   "metadata": {},
   "outputs": [
    {
     "data": {
      "text/html": [
       "<div>\n",
       "<style scoped>\n",
       "    .dataframe tbody tr th:only-of-type {\n",
       "        vertical-align: middle;\n",
       "    }\n",
       "\n",
       "    .dataframe tbody tr th {\n",
       "        vertical-align: top;\n",
       "    }\n",
       "\n",
       "    .dataframe thead th {\n",
       "        text-align: right;\n",
       "    }\n",
       "</style>\n",
       "<table border=\"1\" class=\"dataframe\">\n",
       "  <thead>\n",
       "    <tr style=\"text-align: right;\">\n",
       "      <th></th>\n",
       "      <th>latitude</th>\n",
       "      <th>longitude</th>\n",
       "    </tr>\n",
       "  </thead>\n",
       "  <tbody>\n",
       "    <tr>\n",
       "      <th>0</th>\n",
       "      <td>-8.77</td>\n",
       "      <td>-70.55</td>\n",
       "    </tr>\n",
       "    <tr>\n",
       "      <th>1</th>\n",
       "      <td>-9.71</td>\n",
       "      <td>-35.73</td>\n",
       "    </tr>\n",
       "    <tr>\n",
       "      <th>2</th>\n",
       "      <td>-3.07</td>\n",
       "      <td>-61.66</td>\n",
       "    </tr>\n",
       "    <tr>\n",
       "      <th>3</th>\n",
       "      <td>1.41</td>\n",
       "      <td>-51.77</td>\n",
       "    </tr>\n",
       "    <tr>\n",
       "      <th>4</th>\n",
       "      <td>-12.96</td>\n",
       "      <td>-38.51</td>\n",
       "    </tr>\n",
       "    <tr>\n",
       "      <th>5</th>\n",
       "      <td>-3.71</td>\n",
       "      <td>-38.54</td>\n",
       "    </tr>\n",
       "    <tr>\n",
       "      <th>6</th>\n",
       "      <td>-15.83</td>\n",
       "      <td>-47.86</td>\n",
       "    </tr>\n",
       "    <tr>\n",
       "      <th>7</th>\n",
       "      <td>-19.19</td>\n",
       "      <td>-40.34</td>\n",
       "    </tr>\n",
       "    <tr>\n",
       "      <th>8</th>\n",
       "      <td>-16.64</td>\n",
       "      <td>-49.31</td>\n",
       "    </tr>\n",
       "    <tr>\n",
       "      <th>9</th>\n",
       "      <td>-2.55</td>\n",
       "      <td>-44.30</td>\n",
       "    </tr>\n",
       "    <tr>\n",
       "      <th>10</th>\n",
       "      <td>-12.64</td>\n",
       "      <td>-55.42</td>\n",
       "    </tr>\n",
       "    <tr>\n",
       "      <th>11</th>\n",
       "      <td>-20.51</td>\n",
       "      <td>-54.54</td>\n",
       "    </tr>\n",
       "    <tr>\n",
       "      <th>12</th>\n",
       "      <td>-18.10</td>\n",
       "      <td>-44.38</td>\n",
       "    </tr>\n",
       "    <tr>\n",
       "      <th>13</th>\n",
       "      <td>-5.53</td>\n",
       "      <td>-52.29</td>\n",
       "    </tr>\n",
       "    <tr>\n",
       "      <th>14</th>\n",
       "      <td>-7.06</td>\n",
       "      <td>-35.55</td>\n",
       "    </tr>\n",
       "    <tr>\n",
       "      <th>15</th>\n",
       "      <td>-24.89</td>\n",
       "      <td>-51.55</td>\n",
       "    </tr>\n",
       "    <tr>\n",
       "      <th>16</th>\n",
       "      <td>-8.28</td>\n",
       "      <td>-35.07</td>\n",
       "    </tr>\n",
       "    <tr>\n",
       "      <th>17</th>\n",
       "      <td>-8.28</td>\n",
       "      <td>-43.68</td>\n",
       "    </tr>\n",
       "    <tr>\n",
       "      <th>18</th>\n",
       "      <td>-22.84</td>\n",
       "      <td>-43.15</td>\n",
       "    </tr>\n",
       "    <tr>\n",
       "      <th>19</th>\n",
       "      <td>-5.22</td>\n",
       "      <td>-36.52</td>\n",
       "    </tr>\n",
       "    <tr>\n",
       "      <th>20</th>\n",
       "      <td>-11.22</td>\n",
       "      <td>-62.80</td>\n",
       "    </tr>\n",
       "    <tr>\n",
       "      <th>21</th>\n",
       "      <td>-30.01</td>\n",
       "      <td>-51.22</td>\n",
       "    </tr>\n",
       "    <tr>\n",
       "      <th>22</th>\n",
       "      <td>1.89</td>\n",
       "      <td>-61.22</td>\n",
       "    </tr>\n",
       "    <tr>\n",
       "      <th>23</th>\n",
       "      <td>-27.33</td>\n",
       "      <td>-49.44</td>\n",
       "    </tr>\n",
       "    <tr>\n",
       "      <th>24</th>\n",
       "      <td>-10.90</td>\n",
       "      <td>-37.07</td>\n",
       "    </tr>\n",
       "    <tr>\n",
       "      <th>25</th>\n",
       "      <td>-23.55</td>\n",
       "      <td>-46.64</td>\n",
       "    </tr>\n",
       "    <tr>\n",
       "      <th>26</th>\n",
       "      <td>-10.25</td>\n",
       "      <td>-48.25</td>\n",
       "    </tr>\n",
       "  </tbody>\n",
       "</table>\n",
       "</div>"
      ],
      "text/plain": [
       "    latitude  longitude\n",
       "0      -8.77     -70.55\n",
       "1      -9.71     -35.73\n",
       "2      -3.07     -61.66\n",
       "3       1.41     -51.77\n",
       "4     -12.96     -38.51\n",
       "5      -3.71     -38.54\n",
       "6     -15.83     -47.86\n",
       "7     -19.19     -40.34\n",
       "8     -16.64     -49.31\n",
       "9      -2.55     -44.30\n",
       "10    -12.64     -55.42\n",
       "11    -20.51     -54.54\n",
       "12    -18.10     -44.38\n",
       "13     -5.53     -52.29\n",
       "14     -7.06     -35.55\n",
       "15    -24.89     -51.55\n",
       "16     -8.28     -35.07\n",
       "17     -8.28     -43.68\n",
       "18    -22.84     -43.15\n",
       "19     -5.22     -36.52\n",
       "20    -11.22     -62.80\n",
       "21    -30.01     -51.22\n",
       "22      1.89     -61.22\n",
       "23    -27.33     -49.44\n",
       "24    -10.90     -37.07\n",
       "25    -23.55     -46.64\n",
       "26    -10.25     -48.25"
      ]
     },
     "execution_count": 62,
     "metadata": {},
     "output_type": "execute_result"
    }
   ],
   "source": [
    "d1 = {\"latitude\":lat,\"longitude\":lgt}\n",
    "dataf = pd.DataFrame(data=d1)\n",
    "dataf"
   ]
  },
  {
   "cell_type": "code",
   "execution_count": 64,
   "id": "abd35d45",
   "metadata": {},
   "outputs": [],
   "source": [
    "#customers_orders[\"review_comment_message\"].groupby(\"customer_state\").isnull().value_counts()"
   ]
  },
  {
   "cell_type": "code",
   "execution_count": 65,
   "id": "81e0615b",
   "metadata": {},
   "outputs": [],
   "source": [
    "dataf.to_csv(\"datasets/data_late.csv\")"
   ]
  },
  {
   "cell_type": "code",
   "execution_count": 66,
   "id": "f6c5f58c",
   "metadata": {},
   "outputs": [
    {
     "data": {
      "text/html": [
       "<div>\n",
       "<style scoped>\n",
       "    .dataframe tbody tr th:only-of-type {\n",
       "        vertical-align: middle;\n",
       "    }\n",
       "\n",
       "    .dataframe tbody tr th {\n",
       "        vertical-align: top;\n",
       "    }\n",
       "\n",
       "    .dataframe thead th {\n",
       "        text-align: right;\n",
       "    }\n",
       "</style>\n",
       "<table border=\"1\" class=\"dataframe\">\n",
       "  <thead>\n",
       "    <tr style=\"text-align: right;\">\n",
       "      <th></th>\n",
       "      <th>order_id</th>\n",
       "      <th>payment_sequential</th>\n",
       "      <th>payment_type</th>\n",
       "      <th>payment_installments</th>\n",
       "      <th>payment_value</th>\n",
       "      <th>customer_id</th>\n",
       "      <th>order_status</th>\n",
       "      <th>order_purchase_timestamp</th>\n",
       "      <th>order_approved_at</th>\n",
       "      <th>order_delivered_carrier_date</th>\n",
       "      <th>...</th>\n",
       "      <th>seller_state</th>\n",
       "      <th>customer_unique_id</th>\n",
       "      <th>customer_zip_code_prefix</th>\n",
       "      <th>customer_city</th>\n",
       "      <th>customer_state</th>\n",
       "      <th>delivery_days</th>\n",
       "      <th>days_late</th>\n",
       "      <th>estimated_days</th>\n",
       "      <th>shipment_delay</th>\n",
       "      <th>islate</th>\n",
       "    </tr>\n",
       "  </thead>\n",
       "  <tbody>\n",
       "    <tr>\n",
       "      <th>0</th>\n",
       "      <td>b81ef226f3fe1789b1e8b2acac839d17</td>\n",
       "      <td>1</td>\n",
       "      <td>credit_card</td>\n",
       "      <td>8</td>\n",
       "      <td>99.33</td>\n",
       "      <td>0a8556ac6be836b46b3e89920d59291c</td>\n",
       "      <td>delivered</td>\n",
       "      <td>2018-04-25 22:01:49</td>\n",
       "      <td>2018-04-25 22:15:09</td>\n",
       "      <td>2018-05-02 15:20:00</td>\n",
       "      <td>...</td>\n",
       "      <td>SP</td>\n",
       "      <td>708ab75d2a007f0564aedd11139c7708</td>\n",
       "      <td>39801</td>\n",
       "      <td>teofilo otoni</td>\n",
       "      <td>MG</td>\n",
       "      <td>7</td>\n",
       "      <td>-13</td>\n",
       "      <td>19</td>\n",
       "      <td>-1</td>\n",
       "      <td>0</td>\n",
       "    </tr>\n",
       "    <tr>\n",
       "      <th>1</th>\n",
       "      <td>d86305c284cecff56c7ee9d3fbd4f8d6</td>\n",
       "      <td>1</td>\n",
       "      <td>credit_card</td>\n",
       "      <td>4</td>\n",
       "      <td>93.72</td>\n",
       "      <td>0e37385834260d6111727103a93e790a</td>\n",
       "      <td>delivered</td>\n",
       "      <td>2018-04-15 22:53:59</td>\n",
       "      <td>2018-04-15 23:10:32</td>\n",
       "      <td>2018-04-16 23:54:55</td>\n",
       "      <td>...</td>\n",
       "      <td>SP</td>\n",
       "      <td>550a1a0e8ad53e4147e6c761b5699c2b</td>\n",
       "      <td>14781</td>\n",
       "      <td>barretos</td>\n",
       "      <td>SP</td>\n",
       "      <td>3</td>\n",
       "      <td>-19</td>\n",
       "      <td>22</td>\n",
       "      <td>-3</td>\n",
       "      <td>0</td>\n",
       "    </tr>\n",
       "    <tr>\n",
       "      <th>2</th>\n",
       "      <td>5308fdab519f7478ef64894128fbbee4</td>\n",
       "      <td>1</td>\n",
       "      <td>credit_card</td>\n",
       "      <td>1</td>\n",
       "      <td>36.07</td>\n",
       "      <td>3aec6e3846fd122ac430ac1a816107a8</td>\n",
       "      <td>delivered</td>\n",
       "      <td>2018-06-02 11:51:00</td>\n",
       "      <td>2018-06-02 12:11:27</td>\n",
       "      <td>2018-06-05 15:02:00</td>\n",
       "      <td>...</td>\n",
       "      <td>SP</td>\n",
       "      <td>74fe4e106702770ef728399ce5da503a</td>\n",
       "      <td>74823</td>\n",
       "      <td>goiania</td>\n",
       "      <td>GO</td>\n",
       "      <td>15</td>\n",
       "      <td>-23</td>\n",
       "      <td>37</td>\n",
       "      <td>-6</td>\n",
       "      <td>0</td>\n",
       "    </tr>\n",
       "    <tr>\n",
       "      <th>3</th>\n",
       "      <td>bb54e9bf4bdb6c6391a7c6b517748b9f</td>\n",
       "      <td>1</td>\n",
       "      <td>credit_card</td>\n",
       "      <td>2</td>\n",
       "      <td>124.92</td>\n",
       "      <td>84e28130ed1fa8558f3fc843d9a906e7</td>\n",
       "      <td>delivered</td>\n",
       "      <td>2018-05-27 11:41:32</td>\n",
       "      <td>2018-05-27 11:50:16</td>\n",
       "      <td>2018-06-01 15:13:00</td>\n",
       "      <td>...</td>\n",
       "      <td>SP</td>\n",
       "      <td>da9a13d9200966b860d4a17a98fcf59b</td>\n",
       "      <td>36120</td>\n",
       "      <td>matias barbosa</td>\n",
       "      <td>MG</td>\n",
       "      <td>25</td>\n",
       "      <td>-8</td>\n",
       "      <td>32</td>\n",
       "      <td>-3</td>\n",
       "      <td>0</td>\n",
       "    </tr>\n",
       "    <tr>\n",
       "      <th>4</th>\n",
       "      <td>65a05062e11f3e5121cd0e0723bf765d</td>\n",
       "      <td>1</td>\n",
       "      <td>credit_card</td>\n",
       "      <td>2</td>\n",
       "      <td>123.56</td>\n",
       "      <td>2799fe5cb33f25c1336f9c810f5bab84</td>\n",
       "      <td>delivered</td>\n",
       "      <td>2018-05-28 18:25:10</td>\n",
       "      <td>2018-05-28 18:50:07</td>\n",
       "      <td>2018-06-06 15:01:00</td>\n",
       "      <td>...</td>\n",
       "      <td>SP</td>\n",
       "      <td>ca81b113dd524c7ee478cbb33306d0f1</td>\n",
       "      <td>9910</td>\n",
       "      <td>diadema</td>\n",
       "      <td>SP</td>\n",
       "      <td>2</td>\n",
       "      <td>-12</td>\n",
       "      <td>13</td>\n",
       "      <td>0</td>\n",
       "      <td>0</td>\n",
       "    </tr>\n",
       "  </tbody>\n",
       "</table>\n",
       "<p>5 rows × 42 columns</p>\n",
       "</div>"
      ],
      "text/plain": [
       "                           order_id  payment_sequential payment_type  \\\n",
       "0  b81ef226f3fe1789b1e8b2acac839d17                   1  credit_card   \n",
       "1  d86305c284cecff56c7ee9d3fbd4f8d6                   1  credit_card   \n",
       "2  5308fdab519f7478ef64894128fbbee4                   1  credit_card   \n",
       "3  bb54e9bf4bdb6c6391a7c6b517748b9f                   1  credit_card   \n",
       "4  65a05062e11f3e5121cd0e0723bf765d                   1  credit_card   \n",
       "\n",
       "   payment_installments  payment_value                       customer_id  \\\n",
       "0                     8          99.33  0a8556ac6be836b46b3e89920d59291c   \n",
       "1                     4          93.72  0e37385834260d6111727103a93e790a   \n",
       "2                     1          36.07  3aec6e3846fd122ac430ac1a816107a8   \n",
       "3                     2         124.92  84e28130ed1fa8558f3fc843d9a906e7   \n",
       "4                     2         123.56  2799fe5cb33f25c1336f9c810f5bab84   \n",
       "\n",
       "  order_status order_purchase_timestamp   order_approved_at  \\\n",
       "0    delivered      2018-04-25 22:01:49 2018-04-25 22:15:09   \n",
       "1    delivered      2018-04-15 22:53:59 2018-04-15 23:10:32   \n",
       "2    delivered      2018-06-02 11:51:00 2018-06-02 12:11:27   \n",
       "3    delivered      2018-05-27 11:41:32 2018-05-27 11:50:16   \n",
       "4    delivered      2018-05-28 18:25:10 2018-05-28 18:50:07   \n",
       "\n",
       "  order_delivered_carrier_date  ... seller_state  \\\n",
       "0          2018-05-02 15:20:00  ...           SP   \n",
       "1          2018-04-16 23:54:55  ...           SP   \n",
       "2          2018-06-05 15:02:00  ...           SP   \n",
       "3          2018-06-01 15:13:00  ...           SP   \n",
       "4          2018-06-06 15:01:00  ...           SP   \n",
       "\n",
       "                 customer_unique_id  customer_zip_code_prefix   customer_city  \\\n",
       "0  708ab75d2a007f0564aedd11139c7708                     39801   teofilo otoni   \n",
       "1  550a1a0e8ad53e4147e6c761b5699c2b                     14781        barretos   \n",
       "2  74fe4e106702770ef728399ce5da503a                     74823         goiania   \n",
       "3  da9a13d9200966b860d4a17a98fcf59b                     36120  matias barbosa   \n",
       "4  ca81b113dd524c7ee478cbb33306d0f1                      9910         diadema   \n",
       "\n",
       "  customer_state delivery_days  days_late  estimated_days shipment_delay  \\\n",
       "0             MG             7        -13              19             -1   \n",
       "1             SP             3        -19              22             -3   \n",
       "2             GO            15        -23              37             -6   \n",
       "3             MG            25         -8              32             -3   \n",
       "4             SP             2        -12              13              0   \n",
       "\n",
       "   islate  \n",
       "0       0  \n",
       "1       0  \n",
       "2       0  \n",
       "3       0  \n",
       "4       0  \n",
       "\n",
       "[5 rows x 42 columns]"
      ]
     },
     "execution_count": 66,
     "metadata": {},
     "output_type": "execute_result"
    }
   ],
   "source": [
    "customers_orders.head(5)"
   ]
  },
  {
   "cell_type": "code",
   "execution_count": 68,
   "id": "332eabe8",
   "metadata": {},
   "outputs": [],
   "source": [
    "#customers_orders[[\"review_message\"]]"
   ]
  },
  {
   "cell_type": "code",
   "execution_count": 69,
   "id": "de8b21e0",
   "metadata": {},
   "outputs": [],
   "source": [
    "customers_orders[\"code_customer_id\"] = customers_orders[\"customer_id\"].cat.codes\n",
    "customers_orders[\"code_customer_unique_id\"] = customers_orders[\"customer_unique_id\"].cat.codes\n",
    "customers_orders[\"code_customer_city\"] = customers_orders[\"customer_city\"].cat.codes\n",
    "customers_orders[\"code_customer_state\"] = customers_orders[\"customer_state\"].cat.codes\n",
    "customers_orders[\"code_order_id\"] = customers_orders[\"order_id\"].cat.codes\n",
    "customers_orders[\"code_product_id\"] = customers_orders[\"product_id\"].cat.codes\n",
    "customers_orders[\"code_seller_id\"] = customers_orders[\"seller_id\"].cat.codes\n",
    "customers_orders[\"code_payment_type\"] = customers_orders[\"payment_type\"].cat.codes\n",
    "customers_orders[\"code_review_id\"] = customers_orders[\"review_id\"].cat.codes\n",
    "customers_orders[\"code_order_status\"] = customers_orders[\"order_status\"].cat.codes\n",
    "customers_orders[\"code_product_category_name\"] = customers_orders[\"product_category_name\"].cat.codes\n",
    "customers_orders[\"code_seller_city\"] = customers_orders[\"seller_city\"].cat.codes\n",
    "customers_orders[\"code_seller_state\"] = customers_orders[\"seller_state\"].cat.codes\n",
    "location[\"code_geolocation_city\"] = location[\"geolocation_city\"].cat.codes\n",
    "location[\"code_geolocation_state\"] = location[\"geolocation_state\"].cat.codes"
   ]
  },
  {
   "cell_type": "code",
   "execution_count": 70,
   "id": "5080d2be",
   "metadata": {},
   "outputs": [
    {
     "data": {
      "text/plain": [
       "(97328, 55)"
      ]
     },
     "execution_count": 70,
     "metadata": {},
     "output_type": "execute_result"
    }
   ],
   "source": [
    "customers_orders.shape"
   ]
  },
  {
   "cell_type": "code",
   "execution_count": 71,
   "id": "7bc33613",
   "metadata": {},
   "outputs": [
    {
     "data": {
      "text/plain": [
       "order_id                               category\n",
       "payment_sequential                        int64\n",
       "payment_type                           category\n",
       "payment_installments                      int64\n",
       "payment_value                           float64\n",
       "customer_id                            category\n",
       "order_status                           category\n",
       "order_purchase_timestamp         datetime64[ns]\n",
       "order_approved_at                datetime64[ns]\n",
       "order_delivered_carrier_date     datetime64[ns]\n",
       "order_delivered_customer_date    datetime64[ns]\n",
       "order_estimated_delivery_date    datetime64[ns]\n",
       "order_item_id                             int64\n",
       "product_id                             category\n",
       "seller_id                              category\n",
       "shipping_limit_date              datetime64[ns]\n",
       "price                                   float64\n",
       "freight_value                           float64\n",
       "review_id                              category\n",
       "review_score                              int64\n",
       "review_creation_date             datetime64[ns]\n",
       "review_answer_timestamp          datetime64[ns]\n",
       "product_category_name                  category\n",
       "product_name_lenght                     float64\n",
       "product_description_lenght              float64\n",
       "product_photos_qty                      float64\n",
       "product_weight_g                        float64\n",
       "product_length_cm                       float64\n",
       "product_height_cm                       float64\n",
       "product_width_cm                        float64\n",
       "seller_zip_code_prefix                    int64\n",
       "seller_city                            category\n",
       "seller_state                           category\n",
       "customer_unique_id                     category\n",
       "customer_zip_code_prefix                  int64\n",
       "customer_city                          category\n",
       "customer_state                         category\n",
       "delivery_days                             int64\n",
       "days_late                                 int64\n",
       "estimated_days                            int64\n",
       "shipment_delay                            int64\n",
       "islate                                   object\n",
       "code_customer_id                          int32\n",
       "code_customer_unique_id                   int32\n",
       "code_customer_city                        int16\n",
       "code_customer_state                        int8\n",
       "code_order_id                             int32\n",
       "code_product_id                           int32\n",
       "code_seller_id                            int16\n",
       "code_payment_type                          int8\n",
       "code_review_id                            int32\n",
       "code_order_status                          int8\n",
       "code_product_category_name                 int8\n",
       "code_seller_city                          int16\n",
       "code_seller_state                          int8\n",
       "dtype: object"
      ]
     },
     "execution_count": 71,
     "metadata": {},
     "output_type": "execute_result"
    }
   ],
   "source": [
    "customers_orders.dtypes"
   ]
  },
  {
   "cell_type": "code",
   "execution_count": 72,
   "id": "cf3c75c5",
   "metadata": {},
   "outputs": [],
   "source": [
    "customers_orders.to_csv(\"datasets/clean_df.csv\")"
   ]
  }
 ],
 "metadata": {
  "interpreter": {
   "hash": "d5f6ca866bada2297d8fd83be4f6138ccbd7745b9651ccd132432817d094bcf3"
  },
  "kernelspec": {
   "display_name": "Python 3 (ipykernel)",
   "language": "python",
   "name": "python3"
  },
  "language_info": {
   "codemirror_mode": {
    "name": "ipython",
    "version": 3
   },
   "file_extension": ".py",
   "mimetype": "text/x-python",
   "name": "python",
   "nbconvert_exporter": "python",
   "pygments_lexer": "ipython3",
   "version": "3.8.11"
  }
 },
 "nbformat": 4,
 "nbformat_minor": 5
}
